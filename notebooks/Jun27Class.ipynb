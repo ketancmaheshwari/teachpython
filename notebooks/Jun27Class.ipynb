{
 "cells": [
  {
   "cell_type": "code",
   "execution_count": null,
   "id": "006e31c2",
   "metadata": {},
   "outputs": [],
   "source": [
    "# Accept input from user\n",
    "# prompt\n",
    "name = input(\"Hello, what is your name? \")\n",
    "print(\"Hello there, \" + name + \".\")\n",
    "print(type(name))"
   ]
  },
  {
   "cell_type": "code",
   "execution_count": null,
   "id": "ef57dd00",
   "metadata": {},
   "outputs": [],
   "source": [
    "# We will develop a simple program to calculate area of various shapes\n",
    "\n",
    "# Square\n",
    "side = input(\"Please enter length of a side of a square: \")\n",
    "\n",
    "area = float(side) ** 2\n",
    "\n",
    "print(\"Area of the square is \" + str(area))\n",
    "\n",
    "# Rectangle\n",
    "length = input(\"Please enter the length of a rectangle: \")\n",
    "width = input(\"Please enter the width of the rectangle: \")\n",
    "\n",
    "area = float(length) * float(width)\n",
    "\n",
    "print(\"Area of rectangle is \" + str(area))"
   ]
  },
  {
   "cell_type": "code",
   "execution_count": 15,
   "id": "474b5488",
   "metadata": {},
   "outputs": [
    {
     "name": "stdout",
     "output_type": "stream",
     "text": [
      "Please enter base of triangle: 30\n",
      "Please enter height of the triangle: 50\n",
      "Area of the triangle is 750.0\n"
     ]
    }
   ],
   "source": [
    "# Calculate area of a triangle\n",
    "# The formula is 1/2 * h * b\n",
    "\n",
    "base = input(\"Please enter base of triangle: \")\n",
    "height = input(\"Please enter height of the triangle: \")\n",
    "\n",
    "area = 1/2 * float(base) * float(height)\n",
    "\n",
    "print(\"Area of the triangle is \" + str(area))"
   ]
  },
  {
   "cell_type": "code",
   "execution_count": 12,
   "id": "655d038a",
   "metadata": {},
   "outputs": [
    {
     "name": "stdout",
     "output_type": "stream",
     "text": [
      "Please enter the radius of circle: 56.1\n",
      "Area of circle is 9887.24975832\n"
     ]
    }
   ],
   "source": [
    "# Calculate area of a circle\n",
    "# pi * (r**2)\n",
    "\n",
    "pi = 3.141592\n",
    "\n",
    "radius = input(\"Please enter the radius of circle: \")\n",
    "\n",
    "area = pi * (float(radius) ** 2) #mathematical expression\n",
    "\n",
    "print(\"Area of circle is \" + str(area))"
   ]
  },
  {
   "cell_type": "code",
   "execution_count": null,
   "id": "6c0a1309",
   "metadata": {},
   "outputs": [],
   "source": []
  }
 ],
 "metadata": {
  "kernelspec": {
   "display_name": "Python 3",
   "language": "python",
   "name": "python3"
  },
  "language_info": {
   "codemirror_mode": {
    "name": "ipython",
    "version": 3
   },
   "file_extension": ".py",
   "mimetype": "text/x-python",
   "name": "python",
   "nbconvert_exporter": "python",
   "pygments_lexer": "ipython3",
   "version": "3.8.8"
  }
 },
 "nbformat": 4,
 "nbformat_minor": 5
}
