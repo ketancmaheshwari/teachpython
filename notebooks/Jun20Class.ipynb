{
 "cells": [
  {
   "cell_type": "code",
   "execution_count": 3,
   "id": "49565380",
   "metadata": {},
   "outputs": [
    {
     "name": "stdout",
     "output_type": "stream",
     "text": [
      "XXXX\n"
     ]
    }
   ],
   "source": [
    "print(\"XXXX\")"
   ]
  },
  {
   "cell_type": "code",
   "execution_count": 6,
   "id": "3af414fc",
   "metadata": {},
   "outputs": [
    {
     "name": "stdout",
     "output_type": "stream",
     "text": [
      "7\n",
      "11\n"
     ]
    }
   ],
   "source": [
    "print(3 + 4)\n",
    "print(4 + 7)"
   ]
  },
  {
   "cell_type": "code",
   "execution_count": 20,
   "id": "3c128ea3",
   "metadata": {},
   "outputs": [
    {
     "name": "stdout",
     "output_type": "stream",
     "text": [
      "Chicago\n",
      "Amsterdam\n"
     ]
    }
   ],
   "source": [
    "# This program prints names of two cities for now\n",
    "# The plan is to figure out distance between my current city and my favorite city\n",
    "# \"\":;'`'^#$\n",
    "current_city = \"Chicago\"\n",
    "#print(\"I currently live in \" + current_city)\n",
    "print(current_city)\n",
    "fav_city = \"Amsterdam\"\n",
    "print(fav_city)"
   ]
  },
  {
   "cell_type": "code",
   "execution_count": 24,
   "id": "c68a69ab",
   "metadata": {},
   "outputs": [
    {
     "name": "stdout",
     "output_type": "stream",
     "text": [
      "<class 'str'>\n",
      "<class 'int'>\n",
      "-24\n",
      "<class 'float'>\n"
     ]
    }
   ],
   "source": [
    "# So far we only saw string types\n",
    "fruit = \"apple\"\n",
    "print(type(fruit))\n",
    "\n",
    "# There are two other types (data-types)\n",
    "\n",
    "# Integer (int)\n",
    "# without quotes\n",
    "my_fav_num = 225\n",
    "print(type(my_fav_num))\n",
    "\n",
    "temp_in_antarctica = -24\n",
    "print(temp_in_antarctica)\n",
    "\n",
    "# Float -- floating point numbers \n",
    "# basically decimal numbers\n",
    "\n",
    "pi = 3.1415\n",
    "print(type(pi))"
   ]
  },
  {
   "cell_type": "code",
   "execution_count": 26,
   "id": "95754bc0",
   "metadata": {},
   "outputs": [
    {
     "name": "stdout",
     "output_type": "stream",
     "text": [
      "3785\n",
      "215\n",
      "-215\n",
      "3570000\n",
      "1.1204481792717087\n",
      "0.8925\n",
      "2.0\n"
     ]
    }
   ],
   "source": [
    "# operators\n",
    "# + - * /\n",
    "\n",
    "num1 = 2000\n",
    "num2 = 1785\n",
    "\n",
    "print(num1 + num2)\n",
    "print(num1 - num2)\n",
    "print(num2 - num1)\n",
    "print(num1 * num2)\n",
    "print(num1 / num2)\n",
    "print(num2 / num1)\n",
    "\n",
    "print(4/2)"
   ]
  },
  {
   "cell_type": "code",
   "execution_count": 28,
   "id": "0004e940",
   "metadata": {},
   "outputs": [
    {
     "ename": "SyntaxError",
     "evalue": "invalid syntax (<ipython-input-28-42560dcda25d>, line 8)",
     "output_type": "error",
     "traceback": [
      "\u001b[0;36m  File \u001b[0;32m\"<ipython-input-28-42560dcda25d>\"\u001b[0;36m, line \u001b[0;32m8\u001b[0m\n\u001b[0;31m    print(num1 * * num2)\u001b[0m\n\u001b[0m                 ^\u001b[0m\n\u001b[0;31mSyntaxError\u001b[0m\u001b[0;31m:\u001b[0m invalid syntax\n"
     ]
    }
   ],
   "source": [
    "# Other operators\n",
    "\n",
    "# ** power operator\n",
    "\n",
    "num1 = 4\n",
    "num2 = 5\n",
    "\n",
    "print(num1 ** num2)\n",
    "\n",
    "# % modulo operator -- prints the reminder when one number is devided by other"
   ]
  },
  {
   "cell_type": "code",
   "execution_count": null,
   "id": "4902bc55",
   "metadata": {},
   "outputs": [],
   "source": []
  }
 ],
 "metadata": {
  "kernelspec": {
   "display_name": "Python 3",
   "language": "python",
   "name": "python3"
  },
  "language_info": {
   "codemirror_mode": {
    "name": "ipython",
    "version": 3
   },
   "file_extension": ".py",
   "mimetype": "text/x-python",
   "name": "python",
   "nbconvert_exporter": "python",
   "pygments_lexer": "ipython3",
   "version": "3.8.8"
  }
 },
 "nbformat": 4,
 "nbformat_minor": 5
}
