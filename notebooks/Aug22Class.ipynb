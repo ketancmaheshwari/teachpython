{
 "cells": [
  {
   "cell_type": "code",
   "execution_count": null,
   "id": "ffe7d78a",
   "metadata": {},
   "outputs": [],
   "source": [
    "# tuples\n",
    "\n",
    "# A tuple is a data structure similar to a list but immutable (cannot be modified). \n",
    "# Once created, a tuple may not change. \n",
    "# In other words, you can not add or remove from a tuple.\n",
    "# Tuple is an ordered collection of items."
   ]
  },
  {
   "cell_type": "code",
   "execution_count": null,
   "id": "e9331d9a",
   "metadata": {},
   "outputs": [],
   "source": [
    "student = (\"Arjun\", 9, 75.9)\n",
    "\n",
    "print(type(student))\n",
    "print(student)\n",
    "# student.append(34) # NOT allowed"
   ]
  },
  {
   "cell_type": "code",
   "execution_count": null,
   "id": "e459447e",
   "metadata": {},
   "outputs": [],
   "source": [
    "person = (\"Anuj\", 1/1/1980, \"some address\", \"+919898...\")"
   ]
  },
  {
   "cell_type": "code",
   "execution_count": null,
   "id": "7fd30e35",
   "metadata": {},
   "outputs": [],
   "source": [
    "# tuples can be used as arguments to functions when you do not know how \n",
    "# many arguments will be needed (varying number of arguments)\n",
    "\n",
    "def printall(*items):\n",
    "    return items\n",
    "\n",
    "print(printall(1,2))\n",
    "print(printall(1,2,3))"
   ]
  },
  {
   "cell_type": "code",
   "execution_count": null,
   "id": "81d4000b",
   "metadata": {},
   "outputs": [],
   "source": [
    "# swap two variable values\n",
    "a = 10\n",
    "b = 20\n",
    "\n",
    "temp = a\n",
    "a = b\n",
    "b = temp\n",
    "print(a,b)\n",
    "\n",
    "# pythonic way is to use tuples\n",
    "(a, b) = (b, a)\n",
    "print(a, b)"
   ]
  },
  {
   "cell_type": "code",
   "execution_count": null,
   "id": "f14410bd",
   "metadata": {},
   "outputs": [],
   "source": [
    "squares = [1, 4, 9, 16]\n",
    "print(squares)\n",
    "\n",
    "print(tuple(squares))\n",
    "\n",
    "t = tuple(\"mississippi\")\n",
    "print(t)"
   ]
  },
  {
   "cell_type": "code",
   "execution_count": null,
   "id": "7a7c5b1e",
   "metadata": {},
   "outputs": [],
   "source": [
    "# Tuples have only two functions available\n",
    "\n",
    "t = (\"Air France\", \"Frankfurt\", \"Paris\", \"11:30\", \"2:45\")\n",
    "print(t.index(\"Paris\"))\n",
    "\n",
    "u = (\"two\", \"five\", \"two\", \"eight\")\n",
    "print(u.count(\"five\"))\n",
    "print(u.count(\"two\"))"
   ]
  },
  {
   "cell_type": "code",
   "execution_count": null,
   "id": "c3c629e6",
   "metadata": {},
   "outputs": [],
   "source": [
    "# The zip function\n",
    "# Combine two lists\n",
    "#List1         List2\n",
    "#\"red\"         \"ball\"\n",
    "#\"blue\"        \"bat\"\n",
    "#\"green\"       \"table\"\n",
    "#\"yellow\"      \"striker\"\n",
    "\n",
    "\n",
    "L1 = [\"red\", \"blue\", \"green\", \"yellow\"]\n",
    "L2 = [\"ball\", \"bat\", \"table\", \"striker\"]\n",
    "t = zip(L1, L2)\n",
    "\n",
    "for x, y in t:\n",
    "    print (x, y)"
   ]
  },
  {
   "cell_type": "code",
   "execution_count": null,
   "id": "c69d692b",
   "metadata": {},
   "outputs": [],
   "source": [
    "t1 = (1, 7, 9)\n",
    "t2 = (1, 9, 3)\n",
    "\n",
    "print(t1 < t2)\n",
    "print(t1 > t2)"
   ]
  },
  {
   "cell_type": "code",
   "execution_count": null,
   "id": "d10f1868",
   "metadata": {},
   "outputs": [],
   "source": [
    "# built in function that returns tuple\n",
    "\n",
    "print(divmod(7, 3)) # return quotient and reminder as a tuple\n",
    "print(divmod(100, 25))"
   ]
  },
  {
   "cell_type": "code",
   "execution_count": 38,
   "id": "ceee6fd2",
   "metadata": {},
   "outputs": [],
   "source": [
    "# A practical example of sets\n",
    "\n",
    "# We have files of list of IP addresses which have visited our website\n",
    "# We have 3 such files for last three days\n",
    "# There can be duplicate IP addresses for visitors who have visited multiple times\n",
    "# Goal is to find unique IP addresses from these three files\n",
    "\n",
    "# Step 1. Read from each file and add to a set\n",
    "\n",
    "# Step 2. Read from the set and add to the file\n",
    "\n",
    "def getuniqueIPs():\n",
    "    \n",
    "    f1 = open(\"IP1.txt\", \"r\")\n",
    "    f2 = open(\"IP2.txt\", \"r\")\n",
    "    f3 = open(\"IP3.txt\", \"r\")\n",
    "    \n",
    "    set_of_IP = set()\n",
    "    \n",
    "    \n",
    "    for item1 in f1:\n",
    "        set_of_IP.add(item1.strip())\n",
    "    \n",
    "    for item2 in f2:\n",
    "        set_of_IP.add(item2.strip())\n",
    "        \n",
    "    for item3 in f3:\n",
    "        set_of_IP.add(item3.strip())\n",
    "\n",
    "    f1.close()\n",
    "    f2.close()\n",
    "    f3.close()\n",
    "    \n",
    "    #print(set_of_IP)\n",
    "    \n",
    "    f4 = open(\"uniqueIPs.txt\", \"w\")\n",
    "    \n",
    "    for item4 in set_of_IP:\n",
    "        f4.write(item4 + \"\\n\")\n",
    "    \n",
    "    f4.close()\n",
    "    \n",
    "getuniqueIPs()"
   ]
  },
  {
   "cell_type": "code",
   "execution_count": null,
   "id": "57b0289d",
   "metadata": {},
   "outputs": [],
   "source": [
    "\n",
    "\n",
    "def topper():\n",
    "    \n",
    "    f = open(\"result.txt\", \"r\")\n",
    "    top = 0.0\n",
    "    s = \"\"\n",
    "    grade = 0\n",
    "    for student in f:\n",
    "        if float(student.split()[2]) > top:\n",
    "            s = student.split()[0]\n",
    "            grade = student.split()[1]\n",
    "            top = float(student.split()[2])\n",
    "    \n",
    "    f.close()\n",
    "    return (s, grade, top)\n",
    "    \n",
    "print(topper())"
   ]
  },
  {
   "cell_type": "code",
   "execution_count": null,
   "id": "ed219ed0",
   "metadata": {},
   "outputs": [],
   "source": []
  },
  {
   "cell_type": "code",
   "execution_count": null,
   "id": "490a5b48",
   "metadata": {},
   "outputs": [],
   "source": []
  }
 ],
 "metadata": {
  "kernelspec": {
   "display_name": "Python 3",
   "language": "python",
   "name": "python3"
  },
  "language_info": {
   "codemirror_mode": {
    "name": "ipython",
    "version": 3
   },
   "file_extension": ".py",
   "mimetype": "text/x-python",
   "name": "python",
   "nbconvert_exporter": "python",
   "pygments_lexer": "ipython3",
   "version": "3.8.8"
  }
 },
 "nbformat": 4,
 "nbformat_minor": 5
}
