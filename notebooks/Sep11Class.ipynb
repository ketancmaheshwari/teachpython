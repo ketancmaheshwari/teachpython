{
 "cells": [
  {
   "cell_type": "code",
   "execution_count": 1,
   "id": "4bb49dc0",
   "metadata": {},
   "outputs": [
    {
     "name": "stdout",
     "output_type": "stream",
     "text": [
      "**************************************************\n"
     ]
    }
   ],
   "source": [
    "\"\"\"\n",
    "Create our own modules:\n",
    "step 1. Create a text file. The file name can be anything but extension must be .py\n",
    "step 2. Define variables and functions just like you would normally\n",
    "step 3. Save the file\n",
    "step 4. Restart jupyter notebook\n",
    "\n",
    "Use your modules:\n",
    "step 1. import the module (module name is the name of .py file excluding .py)\n",
    "step 2. use the functions with . notation\n",
    "\n",
    "\"\"\"\n",
    "\n",
    "import myutils\n",
    "\n",
    "myutils.prettyprint(\"*\", 50)"
   ]
  },
  {
   "cell_type": "code",
   "execution_count": 5,
   "id": "908dd45b",
   "metadata": {},
   "outputs": [
    {
     "name": "stdout",
     "output_type": "stream",
     "text": [
      " 👦  and dog  🤾  in usa \n"
     ]
    }
   ],
   "source": [
    "import myutils\n",
    "\n",
    "e = myutils.emotrans(\"boy and dog play in usa\")\n",
    "\n",
    "for i in e:\n",
    "    print(i, end=\" \")\n",
    "\n",
    "print()"
   ]
  },
  {
   "cell_type": "code",
   "execution_count": null,
   "id": "a34fddb2",
   "metadata": {},
   "outputs": [],
   "source": []
  }
 ],
 "metadata": {
  "kernelspec": {
   "display_name": "Python 3",
   "language": "python",
   "name": "python3"
  },
  "language_info": {
   "codemirror_mode": {
    "name": "ipython",
    "version": 3
   },
   "file_extension": ".py",
   "mimetype": "text/x-python",
   "name": "python",
   "nbconvert_exporter": "python",
   "pygments_lexer": "ipython3",
   "version": "3.8.8"
  }
 },
 "nbformat": 4,
 "nbformat_minor": 5
}
