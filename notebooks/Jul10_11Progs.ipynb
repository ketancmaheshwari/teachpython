{
 "cells": [
  {
   "cell_type": "code",
   "execution_count": null,
   "id": "d89e4bb7",
   "metadata": {},
   "outputs": [],
   "source": [
    "# Today we will explore the if, if-else and if-elif conditionals\n",
    "\n",
    "# if some_boolean_expression:\n",
    "#   some_python_statement\n",
    "# else:\n",
    "#   other_python_statement\n",
    "\n",
    "# if some_boolean_expression:\n",
    "#    do_run_some_python_statement\n",
    "#    run something else\n",
    "\n",
    "# other python lines here\n",
    "\n",
    "\n",
    "a = 100\n",
    "b = 200\n",
    "\n",
    "if a < b:\n",
    "    print(\"a is less than b\")\n",
    "else:\n",
    "    print(\"a is greater than or equal to b\")"
   ]
  },
  {
   "cell_type": "code",
   "execution_count": null,
   "id": "3fbfa1f4",
   "metadata": {},
   "outputs": [],
   "source": [
    "x = 24\n",
    "y = 24\n",
    "\n",
    "if x == y:\n",
    "    print(\"x and y are having same value, please revisit\")\n",
    "    \n",
    "print(\"x times y is: \" + str(x * y))"
   ]
  },
  {
   "cell_type": "code",
   "execution_count": null,
   "id": "ca5e94b1",
   "metadata": {},
   "outputs": [],
   "source": [
    "# A better program to calculate a sphere's volume\n",
    "\n",
    "pi = 3.14159\n",
    "radius = input(\"Enter the radius of sphere: \")\n",
    "\n",
    "if float(radius) <= 0:\n",
    "    print(\"Invalid value of radius\")\n",
    "else:\n",
    "    volume = 4 / 3 * pi * float(radius)**3\n",
    "    print(\"Volume of sphere: \" + str(volume))\n",
    "    \n"
   ]
  },
  {
   "cell_type": "code",
   "execution_count": null,
   "id": "34374eec",
   "metadata": {},
   "outputs": [],
   "source": [
    "# Check if a triangle is a valid triangle\n",
    "\n",
    "a1 = input(\"Enter first angle: \")\n",
    "a2 = input(\"Enter second angle: \")\n",
    "a3 = input(\"Enter third angle: \")\n",
    "\n",
    "if float(a1) + float(a2) + float(a3) == 180.0:\n",
    "    print(\"A valid triangle\")\n",
    "else:\n",
    "    print(\"An invalid triangle\")\n",
    "\n"
   ]
  },
  {
   "cell_type": "code",
   "execution_count": null,
   "id": "8e00229d",
   "metadata": {},
   "outputs": [],
   "source": [
    "# Problem: Find if a number is divisible by 3 and 5\n",
    "\n",
    "num = input(\"Please enter a whole number: \")\n",
    "\n",
    "if int(num) % 3 == 0 and int(num) % 5 == 0:\n",
    "    print(\"Number is divisible by 3 and 5\")\n",
    "else:\n",
    "    print(\"Number is either not divisible by 3 or 5 or both\")"
   ]
  },
  {
   "cell_type": "code",
   "execution_count": null,
   "id": "3c9fc00b",
   "metadata": {},
   "outputs": [],
   "source": [
    "# Problem: check if a person is eligible for a rollercoaster\n",
    "\n",
    "min_age = 12\n",
    "min_height = 44\n",
    "\n",
    "age = input(\"Please enter your age: \")\n",
    "height = input(\"Please enter your height (in inches) : \")\n",
    "\n",
    "if float(height) >= min_height and float(age) >= min_age:\n",
    "    print(\"You are in ..welcome\")\n",
    "else:\n",
    "    print(\"Sorry not eligible\")\n",
    "    \n"
   ]
  },
  {
   "cell_type": "code",
   "execution_count": null,
   "id": "dcd5a74f",
   "metadata": {},
   "outputs": [],
   "source": [
    "# Print result of a student given that we know the total marks out of 500\n",
    "\n",
    "marks = 415\n",
    "\n",
    "if marks >= 410:\n",
    "    print(\"*Distinction*\", end=\" \")\n",
    "    \n",
    "print(\"You got \" + str(marks) + \" marks.\")"
   ]
  },
  {
   "cell_type": "code",
   "execution_count": null,
   "id": "07dc695d",
   "metadata": {},
   "outputs": [],
   "source": [
    "# The if-elif decision ladder\n",
    "# else + if = elif\n",
    "# if boolean-expression:\n",
    "#    lines_if_above_is_true\n",
    "# elif another_boolean_expression:\n",
    "#    lines_if_above_is_true\n",
    "# elif yet_another_B_E:\n",
    "#    lines_....\n",
    "# else: #optional if you want to default to none of the above\n",
    "\n",
    "\n",
    "marks = 290\n",
    "\n",
    "if marks >= 410:\n",
    "    print(\"Distinction\")\n",
    "elif marks >= 350:\n",
    "    print(\"First Class\")\n",
    "elif marks >= 290:\n",
    "    print(\"Second Class\")\n",
    "\n",
    "print(\"You scored \"+ str(marks) + \" marks\")\n"
   ]
  },
  {
   "cell_type": "code",
   "execution_count": null,
   "id": "c7f6b782",
   "metadata": {},
   "outputs": [],
   "source": [
    "# Simple income tax program\n",
    "\n",
    "income = 16000\n",
    "\n",
    "if income <= 5000:\n",
    "    print(\"No tax\")\n",
    "    \n",
    "#elif income > 5000 and income <= 10000:\n",
    "elif 5000 < income <= 10000:\n",
    "    print(\"5% tax\")\n",
    "\n",
    "#elif income > 10000 and income <= 50000:\n",
    "elif 10000 < income <= 50000:\n",
    "    print(\"10% tax\")\n",
    "\n",
    "else:\n",
    "    print(\"15% tax\")\n",
    "    "
   ]
  },
  {
   "cell_type": "code",
   "execution_count": null,
   "id": "d8f9bf76",
   "metadata": {},
   "outputs": [],
   "source": [
    "# syntactic sugar means that a shorter way of writing something\n",
    "num = 10\n",
    "# overwriting the value of a variable by a \n",
    "# new value which is kind of derived from its existing value\n",
    "num = num + 10 \n",
    "num = num - 10\n",
    "num = num * 10\n"
   ]
  },
  {
   "cell_type": "code",
   "execution_count": null,
   "id": "108262d2",
   "metadata": {},
   "outputs": [],
   "source": [
    "# swapping of two variable's values\n",
    "\n",
    "a = 100\n",
    "b = 200\n",
    "\n",
    "print(\"a is \"+ str(a) + \" and b is \" + str(b))\n",
    "\n",
    "temp = a  # a temporary variable\n",
    "a = b \n",
    "b = temp\n",
    "\n",
    "print(\"a is \"+ str(a) + \" and b is \" + str(b))\n",
    "\n"
   ]
  },
  {
   "cell_type": "code",
   "execution_count": null,
   "id": "fd0a0f38",
   "metadata": {},
   "outputs": [],
   "source": [
    "# while loops!\n",
    "# a shape produced by a curve that bends around and crosses itself\n",
    "\n",
    "# Loops are used in programming to do something repetetively \n",
    "\n",
    "# simple example of a while loop\n",
    "\n",
    "# syntax of while loop OR blue print of while loop\n",
    "# while boolean_expression:\n",
    "#    python_statements\n",
    "#    python_statements\n",
    "\n",
    "# more_python_statements\n",
    "\n",
    "num = 0 # loop variable\n",
    "# no more an infinite loop!!!\n",
    "while num <= 9:\n",
    "    print(num)\n",
    "    # num = num + 1\n",
    "    num += 1 # syntactic sugar or shorthand for num = num + 1\n"
   ]
  },
  {
   "cell_type": "code",
   "execution_count": null,
   "id": "6c380b91",
   "metadata": {},
   "outputs": [],
   "source": [
    "a = 20\n",
    "b = 30\n",
    "\n",
    "# in math = means equality but in python = means assignment!\n",
    "a = b # assign the value of b to variable a\n",
    "b = a # assign the value of a to variable b\n"
   ]
  },
  {
   "cell_type": "code",
   "execution_count": null,
   "id": "8a8146b6",
   "metadata": {},
   "outputs": [],
   "source": [
    "# the break statement\n",
    "\n",
    "while True: # infinite loop by design\n",
    "    print(\"Hello\")\n",
    "    break"
   ]
  },
  {
   "cell_type": "code",
   "execution_count": 1,
   "id": "c461f4ed",
   "metadata": {},
   "outputs": [
    {
     "name": "stdout",
     "output_type": "stream",
     "text": [
      "2 x 1 = 2\n",
      "2 x 2 = 4\n",
      "2 x 3 = 6\n",
      "2 x 4 = 8\n",
      "2 x 5 = 10\n",
      "2 x 6 = 12\n",
      "2 x 7 = 14\n",
      "2 x 8 = 16\n",
      "2 x 9 = 18\n",
      "2 x 10 = 20\n",
      "2 x 11 = 22\n",
      "2 x 12 = 24\n",
      "2 x 13 = 26\n",
      "2 x 14 = 28\n",
      "2 x 15 = 30\n",
      "2 x 16 = 32\n",
      "2 x 17 = 34\n",
      "2 x 18 = 36\n",
      "2 x 19 = 38\n",
      "2 x 20 = 40\n",
      "End.\n"
     ]
    }
   ],
   "source": [
    "# Print multiplication table\n",
    "\n",
    "num = 2\n",
    "index = 1\n",
    "while index <= 20:\n",
    "    print(str(num) + \" x \" + str(index) + \" = \" + str(num * index))\n",
    "    index += 1\n",
    "\n",
    "print(\"End.\")"
   ]
  },
  {
   "cell_type": "code",
   "execution_count": null,
   "id": "052b5060",
   "metadata": {},
   "outputs": [],
   "source": []
  }
 ],
 "metadata": {
  "kernelspec": {
   "display_name": "Python 3",
   "language": "python",
   "name": "python3"
  },
  "language_info": {
   "codemirror_mode": {
    "name": "ipython",
    "version": 3
   },
   "file_extension": ".py",
   "mimetype": "text/x-python",
   "name": "python",
   "nbconvert_exporter": "python",
   "pygments_lexer": "ipython3",
   "version": "3.8.8"
  }
 },
 "nbformat": 4,
 "nbformat_minor": 5
}
