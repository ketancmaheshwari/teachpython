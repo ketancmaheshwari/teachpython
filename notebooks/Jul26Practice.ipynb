{
 "cells": [
  {
   "cell_type": "code",
   "execution_count": null,
   "id": "011871f0",
   "metadata": {},
   "outputs": [],
   "source": [
    "# Modify the number guessing game to count the trials that a user takes to guess the number"
   ]
  },
  {
   "cell_type": "code",
   "execution_count": null,
   "id": "efc8d3ec",
   "metadata": {},
   "outputs": [],
   "source": [
    "# Modify the square root program to calculate cube root"
   ]
  },
  {
   "cell_type": "code",
   "execution_count": null,
   "id": "7ffab7da",
   "metadata": {},
   "outputs": [],
   "source": [
    "# Modify the square root program so that it works with decimal numbers between 0 and 1"
   ]
  },
  {
   "cell_type": "code",
   "execution_count": null,
   "id": "4f8312f6",
   "metadata": {},
   "outputs": [],
   "source": [
    "# Write a program to print numbers from 100 to 1 in reverse (100, 99, 98 ...)\n",
    "# If a number is divisible by 7, print \"baz\" instead of number\n",
    "# If a number is divisible by 13, print \"caz\" instead of number\n",
    "# If a number is divisible by both 7 and 13, print \"bazcaz\" instead of number"
   ]
  },
  {
   "cell_type": "code",
   "execution_count": 2,
   "id": "484787d9",
   "metadata": {},
   "outputs": [],
   "source": [
    "# Following is the recipe to find Greatest Common Divisor (GCD, also called HCF) of two numbers. \n",
    "# Convert it to python code\n",
    "\n",
    "# step 1. Let the two numbers be A and B (eg. A = 1220 and B = 516)\n",
    "# step 2. If A is 0 the answer is B\n",
    "# step 3. if B is 0 the answer is A\n",
    "# step 4. Otherwise, find the reminder R when A is devided by B (using modulus operator)\n",
    "# step 5. Overwrite A with B and B with R\n",
    "# step 6. Repeat steps 4 and 5 as long as A mod B is greater than 0\n",
    "# step 7. The current value of B is the answer."
   ]
  },
  {
   "cell_type": "code",
   "execution_count": null,
   "id": "4fec72ce",
   "metadata": {},
   "outputs": [],
   "source": [
    "# Create 3 lists as follows\n",
    "# List of first five planets called planets\n",
    "# List of all months called months\n",
    "# List of days of week called days\n",
    "\n",
    "# Print all items of each list\n",
    "\n",
    "# Add sixth and seventh planet to the planets list\n",
    "\n",
    "# Remove Saturday and Sunday from days list\n",
    "\n",
    "# Print the length of months list using the len function\n",
    "\n",
    "# Print the name of last month using the list index notation\n",
    "\n",
    "# Insert \"Sun\" in the first position of the planets list\n",
    "\n",
    "# Check if \"Pluto\" is included in the planets list using the \"in\" operator\n",
    "\n",
    "# Reverse the months list\n",
    "\n",
    "# Print the planets list sorted\n",
    "\n",
    "# Print the 3rd item in the days list\n",
    "\n",
    "# Print the 4th item in the reversed months list\n",
    "\n",
    "# What will be printed if you print planets[-5]? Verify your prediction."
   ]
  }
 ],
 "metadata": {
  "kernelspec": {
   "display_name": "Python 3",
   "language": "python",
   "name": "python3"
  },
  "language_info": {
   "codemirror_mode": {
    "name": "ipython",
    "version": 3
   },
   "file_extension": ".py",
   "mimetype": "text/x-python",
   "name": "python",
   "nbconvert_exporter": "python",
   "pygments_lexer": "ipython3",
   "version": "3.8.8"
  }
 },
 "nbformat": 4,
 "nbformat_minor": 5
}
