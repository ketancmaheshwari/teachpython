{
 "cells": [
  {
   "cell_type": "code",
   "execution_count": null,
   "id": "9e451c9e",
   "metadata": {},
   "outputs": [],
   "source": [
    "print(\"Hello World!\")"
   ]
  },
  {
   "cell_type": "code",
   "execution_count": null,
   "id": "cd71d5b3",
   "metadata": {},
   "outputs": [],
   "source": [
    "print(\"    /|\")\n",
    "print(\"   / |\")\n",
    "print(\"  /  |\")\n",
    "print(\" /   |\")\n",
    "print(\"/____|\")"
   ]
  },
  {
   "cell_type": "code",
   "execution_count": null,
   "id": "511e361c",
   "metadata": {},
   "outputs": [],
   "source": [
    "print(chr(287))\n",
    "print(chr(2709))\n",
    "print(chr(2710))"
   ]
  },
  {
   "cell_type": "code",
   "execution_count": null,
   "id": "543d17a7",
   "metadata": {},
   "outputs": [],
   "source": [
    "\"hello \" + \"world\""
   ]
  },
  {
   "cell_type": "code",
   "execution_count": null,
   "id": "c7d9e8b7",
   "metadata": {},
   "outputs": [],
   "source": [
    "print('He said \"hello\" to her.')\n",
    "print(\"She said 'hello' to him.\")"
   ]
  },
  {
   "cell_type": "code",
   "execution_count": null,
   "id": "21c07b37",
   "metadata": {},
   "outputs": [],
   "source": [
    "print(\"Roses are \\\"red\\\" \\n violets are \\'blue\\'.\")"
   ]
  },
  {
   "cell_type": "code",
   "execution_count": null,
   "id": "ef3b4c2d",
   "metadata": {},
   "outputs": [],
   "source": [
    "len(\"Hello World\")"
   ]
  },
  {
   "cell_type": "code",
   "execution_count": null,
   "id": "6d14690a",
   "metadata": {},
   "outputs": [],
   "source": [
    "ord('ખ')"
   ]
  },
  {
   "cell_type": "code",
   "execution_count": null,
   "id": "5f035c75",
   "metadata": {},
   "outputs": [],
   "source": [
    "print(\"\"\"        Roses are red\n",
    "         Violets are blue\n",
    "         I do I, you do you\"\"\")"
   ]
  },
  {
   "cell_type": "code",
   "execution_count": null,
   "id": "0533b7cf",
   "metadata": {},
   "outputs": [],
   "source": [
    "print(\"Coffee \\n Café \\n Caffè \\n Kaffee\")"
   ]
  },
  {
   "cell_type": "code",
   "execution_count": null,
   "id": "da3e248f",
   "metadata": {},
   "outputs": [],
   "source": [
    "message = \"Hello\"\n",
    "print(message)"
   ]
  },
  {
   "cell_type": "code",
   "execution_count": 1,
   "id": "075a13a0",
   "metadata": {},
   "outputs": [
    {
     "name": "stdout",
     "output_type": "stream",
     "text": [
      "8841761993739701954543616000000\n"
     ]
    }
   ],
   "source": [
    "x = 29\n",
    "ans = 1\n",
    "while x >= 1:\n",
    "    ans *= x\n",
    "    x -= 1\n",
    "    \n",
    "print(ans)"
   ]
  },
  {
   "cell_type": "code",
   "execution_count": 3,
   "id": "e63bf8cb",
   "metadata": {},
   "outputs": [
    {
     "name": "stdout",
     "output_type": "stream",
     "text": [
      "**Distinction**\n",
      "You have 261 Marks!\n"
     ]
    }
   ],
   "source": [
    "total = 261\n",
    "if total >= 240:\n",
    "    print(\"**Distinction**\")\n",
    "    \n",
    "print(\"You have \" + str(total) + \" Marks!\")"
   ]
  },
  {
   "cell_type": "code",
   "execution_count": null,
   "id": "cebac2c1",
   "metadata": {},
   "outputs": [],
   "source": []
  }
 ],
 "metadata": {
  "kernelspec": {
   "display_name": "Python 3",
   "language": "python",
   "name": "python3"
  },
  "language_info": {
   "codemirror_mode": {
    "name": "ipython",
    "version": 3
   },
   "file_extension": ".py",
   "mimetype": "text/x-python",
   "name": "python",
   "nbconvert_exporter": "python",
   "pygments_lexer": "ipython3",
   "version": "3.8.8"
  }
 },
 "nbformat": 4,
 "nbformat_minor": 5
}
