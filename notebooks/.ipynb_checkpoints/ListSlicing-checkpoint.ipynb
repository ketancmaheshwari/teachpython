{
 "cells": [
  {
   "cell_type": "code",
   "execution_count": null,
   "id": "b057635a",
   "metadata": {},
   "outputs": [],
   "source": [
    "# Syntax\n",
    "\n",
    "# a[start:end:step]\n",
    "\n",
    "# start, end and stop are optional but at least one : is required for list slicing\n",
    "\n",
    "# Semantics\n",
    "\n",
    "# default values: start -- beginning of list, end -- end of list, step -- 1\n",
    "\n",
    "# a[start:end] --> items from index start to end - 1\n",
    "\n",
    "# a[start:]    --> items from start through the rest of the list\n",
    "\n",
    "# a[:end]      --> items from the beginning to end - 1\n",
    "\n",
    "# a[:]         --> a copy of the whole list\n",
    "\n",
    "# a[start:end:step] --> start to end - 1 with step "
   ]
  },
  {
   "cell_type": "code",
   "execution_count": null,
   "id": "1056de1f",
   "metadata": {},
   "outputs": [],
   "source": [
    "# Initialize list\n",
    "#      0    1  2    3   4   5   6\n",
    "lst = [50, 70, 30, 20, 90, 10, 50]\n",
    "#      -7  -6  -5  -4  -3  -2  -1\n",
    "\n",
    "# Display list\n",
    "print(lst[::]) # lst[0:7:1] OR lst[0:len(lst):1]\n"
   ]
  },
  {
   "cell_type": "code",
   "execution_count": 9,
   "id": "6bd7ac13",
   "metadata": {},
   "outputs": [
    {
     "name": "stdout",
     "output_type": "stream",
     "text": [
      "[50, 70, 30, 20, 90, 10, 50]\n"
     ]
    }
   ],
   "source": [
    "# Initialize list\n",
    "lst = [50, 70, 30, 20, 90, 10, 50]\n",
    "\n",
    "# Display list\n",
    "print(lst[-7::1])\n"
   ]
  },
  {
   "cell_type": "code",
   "execution_count": 10,
   "id": "05dfe0fb",
   "metadata": {},
   "outputs": [
    {
     "name": "stdout",
     "output_type": "stream",
     "text": [
      "[70, 30, 20, 90]\n"
     ]
    }
   ],
   "source": [
    "# Initialize list\n",
    "lst = [50, 70, 30, 20, 90, 10, 50]\n",
    "\n",
    "# Display list\n",
    "print(lst[1:5])\n"
   ]
  },
  {
   "cell_type": "code",
   "execution_count": 11,
   "id": "93feeecd",
   "metadata": {},
   "outputs": [
    {
     "name": "stdout",
     "output_type": "stream",
     "text": [
      "\n",
      "Original List:\n",
      " [1, 2, 3, 4, 5, 6, 7, 8, 9]\n",
      "\n",
      "Sliced Lists: \n",
      "[4, 6, 8]\n",
      "[1, 3, 5, 7, 9]\n",
      "[1, 2, 3, 4, 5, 6, 7, 8, 9]\n"
     ]
    }
   ],
   "source": [
    "# Initialize list\n",
    "#      0  1  2  3  4  5  6  7  8\n",
    "lst = [1, 2, 3, 4, 5, 6, 7, 8, 9]\n",
    "#      -9 -8 -7 -6 -5 -4 -3 -2 -1\n",
    "\n",
    "# Show original list\n",
    "print(\"\\nOriginal List:\\n\", lst)\n",
    "\n",
    "print(\"\\nSliced Lists: \")\n",
    "\n",
    "# Display sliced list\n",
    "print(lst[3:9:2]) # lst[3], lst[5], lst[7] [4, 6, 8]\n",
    "\n",
    "# Display sliced list\n",
    "print(lst[::2]) # lst[0:9:2] lst[0], lst[2], lst[4], lst[6], lst[8] [1,3,5,7,9] \n",
    "\n",
    "# Display sliced list\n",
    "print(lst[::]) # entire list!!\n"
   ]
  },
  {
   "cell_type": "code",
   "execution_count": 12,
   "id": "4c0e4c45",
   "metadata": {},
   "outputs": [
    {
     "name": "stdout",
     "output_type": "stream",
     "text": [
      "\n",
      "Original List:\n",
      " ['Geeks', 4, 'geeks !']\n",
      "\n",
      "Sliced Lists: \n",
      "['geeks !', 4, 'Geeks']\n",
      "['geeks !']\n",
      "['geeks !']\n"
     ]
    }
   ],
   "source": [
    "#  Initialize list\n",
    "#         0     1     2\n",
    "lst = ['Geeks', 4, 'geeks !']\n",
    "#       -3      -2      -1\n",
    "\n",
    "# Show original list\n",
    "print(\"\\nOriginal List:\\n\", lst)\n",
    "\n",
    "print(\"\\nSliced Lists: \")\n",
    "\n",
    "# Display sliced list\n",
    "print(lst[::-1]) # lst[0], lst[-1], lst[-2]: 'Geeks', 'geeks !', 4\n",
    "\n",
    "# Display sliced list\n",
    "print(lst[::-3]) # lst[0:3:-3] empty??\n",
    "\n",
    "# Display sliced list\n",
    "print(lst[:1:-2]) # from 0 to 1-1 (which is 0) empty?? Discuss more tomorrow!\n"
   ]
  },
  {
   "cell_type": "code",
   "execution_count": null,
   "id": "d71ef217",
   "metadata": {},
   "outputs": [],
   "source": [
    "# Initialize list\n",
    "#       0     1       2        3      4\n",
    "lst = [-999, 'G4G', 1706256, '^_^', 3.1496]\n",
    "#      -5     -4      -3       -2     -1\n",
    "\n",
    "# Show original list\n",
    "print(\"\\nOriginal List:\\n\", lst)\n",
    "\n",
    "print(\"\\nSliced Lists: \")\n",
    "\n",
    "# Display sliced list\n",
    "print(lst[10::2]) # empty because out of index\n",
    "\n",
    "# Display sliced list\n",
    "print(lst[1:1:1]) # empty??\n",
    "\n",
    "# Display sliced list\n",
    "print(lst[-1:-1:-1]) # empty?? / last item??\n",
    "\n",
    "# Display sliced list\n",
    "print(lst[:0:]) # empty??\n"
   ]
  },
  {
   "cell_type": "code",
   "execution_count": 16,
   "id": "576ae2cf",
   "metadata": {},
   "outputs": [
    {
     "name": "stdout",
     "output_type": "stream",
     "text": [
      "p\n",
      "Cape Town\n",
      "nwoT epaC\n",
      "Cp on\n"
     ]
    }
   ],
   "source": [
    "\n",
    "#for i in \"Computer\":\n",
    "#    print(i)\n",
    "\n",
    "# Strings as lists\n",
    "#                      0                               8\n",
    "city = \"Cape Town\" # ['C','a','p','e',' ','T','o','w','n']\n",
    "#                     -9                               -1\n",
    "print(city[2:3]) # p\n",
    "print(city[0:len(city)]) # Cape Town\n",
    "print(city[::-1]) # Reverse!\n",
    "print(city[::2])  #0,2,4,6,8"
   ]
  },
  {
   "cell_type": "code",
   "execution_count": 3,
   "id": "71633801",
   "metadata": {},
   "outputs": [
    {
     "name": "stdout",
     "output_type": "stream",
     "text": [
      "\n",
      "Original List:\n",
      " ['Geeks', 4, 'geeks !']\n",
      "\n",
      "Sliced Lists: \n",
      "['geeks !', 4, 'Geeks']\n",
      "['geeks !']\n",
      "['geeks !']\n"
     ]
    }
   ],
   "source": [
    "#  Initialize list\n",
    "#         0     1     2\n",
    "lst = ['Geeks', 4, 'geeks !']\n",
    "#       -3      -2      -1\n",
    "\n",
    "# Show original list\n",
    "print(\"\\nOriginal List:\\n\", lst)\n",
    "\n",
    "print(\"\\nSliced Lists: \")\n",
    "\n",
    "# Display sliced list\n",
    "print(lst[::-1])\n",
    "\n",
    "# Display sliced list\n",
    "print(lst[::-3])\n",
    "\n",
    "# Display sliced list\n",
    "print(lst[:1:-2]) # Negative step size always starts from the last!\n"
   ]
  },
  {
   "cell_type": "code",
   "execution_count": 6,
   "id": "d3a7cf90",
   "metadata": {},
   "outputs": [
    {
     "name": "stdout",
     "output_type": "stream",
     "text": [
      "['geeks !']\n"
     ]
    }
   ],
   "source": [
    "# Better understanding list slicing!!\n",
    "#   +---+---+---+---+---+---+\n",
    "#   | P | y | t | h | o | n |\n",
    "#   +---+---+---+---+---+---+\n",
    "#   0   1   2   3   4   5   6\n",
    "#  -6  -5  -4  -3  -2  -1\n",
    "\n",
    "\n",
    "lst = ['Geeks', 4, 'geeks !']\n",
    "\n",
    "# 0       1   2         3\n",
    "# +-------+---+---------+\n",
    "# | Geeks | 4 | geeks ! |\n",
    "# +-------+---+---------+\n",
    "#-3      -2   -1\n",
    "\n",
    "\n",
    "print(lst[::-3])"
   ]
  },
  {
   "cell_type": "code",
   "execution_count": 24,
   "id": "6585a370",
   "metadata": {},
   "outputs": [
    {
     "name": "stdout",
     "output_type": "stream",
     "text": [
      "[3]\n"
     ]
    }
   ],
   "source": [
    "a = [1, 2, 3]\n",
    "print(a[::-3])"
   ]
  },
  {
   "cell_type": "code",
   "execution_count": null,
   "id": "e56dc9dc",
   "metadata": {},
   "outputs": [],
   "source": []
  }
 ],
 "metadata": {
  "kernelspec": {
   "display_name": "Python 3",
   "language": "python",
   "name": "python3"
  },
  "language_info": {
   "codemirror_mode": {
    "name": "ipython",
    "version": 3
   },
   "file_extension": ".py",
   "mimetype": "text/x-python",
   "name": "python",
   "nbconvert_exporter": "python",
   "pygments_lexer": "ipython3",
   "version": "3.8.8"
  }
 },
 "nbformat": 4,
 "nbformat_minor": 5
}
