{
 "cells": [
  {
   "cell_type": "code",
   "execution_count": null,
   "id": "76e3c5a5",
   "metadata": {},
   "outputs": [],
   "source": [
    "# List slicing\n",
    "\n",
    "# Let a be the list as follows:\n",
    "\n",
    "a = [1, 2, 3, 4, 5, 6, 7, 8, 9, 10, 11, 12, 13, 14, 15, 16, 17, 18, 19, 20]\n",
    "\n",
    "# Print the following using list slicing expressions:\n",
    "\n",
    "# Entire list\n",
    "\n",
    "# Entire list reversed\n",
    "\n",
    "# Only odd numbers in the list\n",
    "\n",
    "# Only even numbers in the list\n",
    "\n",
    "# Only odd numbers in reverse order\n",
    "\n",
    "# Only even numbers in reverse order\n",
    "\n",
    "# All numbers divisible by 5\n",
    "\n",
    "# All items with index between 7 and 9 inclusive\n",
    "\n",
    "# All items with index between 11 and 16 but exclusive of index 16\n",
    "\n",
    "# Only the first and last item\n",
    "\n",
    "# Only the first and last item in reverse order\n"
   ]
  },
  {
   "cell_type": "code",
   "execution_count": null,
   "id": "0e67ecdd",
   "metadata": {},
   "outputs": [],
   "source": [
    "# List comprehension\n",
    "\n",
    "# Create a list named b using list comprehension and range function\n",
    "#  that has consecutive numbers between 50 and 70 inclusive\n",
    "\n",
    "# Create the following lists using the above list b:\n",
    "\n",
    "# List c of all numbers in b that are divisible by 3\n",
    "\n",
    "# List d of all numbers in b that are divisible by 5\n",
    "\n",
    "# List e of square of all numbers in b\n",
    "\n",
    "# List f of all the numbers in b halved\n",
    "\n",
    "# List g of numbers that are less than or equal to 65"
   ]
  },
  {
   "cell_type": "code",
   "execution_count": null,
   "id": "4b85e7df",
   "metadata": {},
   "outputs": [],
   "source": [
    "# Functions\n",
    "# Following functions have one or more mistakes, fix them and test them by invoking at lease once:\n",
    "\n",
    "fn my_function()\n",
    "  print(\"Hello from a function\") \n",
    "\n",
    "def my_function(fname, lname:\n",
    "  print(fname + \" \" + lname)\n",
    "\n",
    "def cube(num):\n",
    "    return n**3\n",
    "\n",
    "def FtoC(fval):\n",
    "    return fval # fix the formula\n",
    "\n",
    "def printlist(alist):\n",
    "    for \n",
    "        print(i)\n",
    "\n",
    "def eligibletovote(age)\n",
    "    if age < 18\n",
    "        return \"Not eligible\"\n",
    "    else:\n",
    "        return \"Eligible\"\n"
   ]
  }
 ],
 "metadata": {
  "kernelspec": {
   "display_name": "Python 3",
   "language": "python",
   "name": "python3"
  },
  "language_info": {
   "codemirror_mode": {
    "name": "ipython",
    "version": 3
   },
   "file_extension": ".py",
   "mimetype": "text/x-python",
   "name": "python",
   "nbconvert_exporter": "python",
   "pygments_lexer": "ipython3",
   "version": "3.8.8"
  }
 },
 "nbformat": 4,
 "nbformat_minor": 5
}
