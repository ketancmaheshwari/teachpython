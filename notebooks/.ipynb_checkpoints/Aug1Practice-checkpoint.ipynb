{
 "cells": [
  {
   "cell_type": "code",
   "execution_count": null,
   "id": "10f137bb",
   "metadata": {},
   "outputs": [],
   "source": [
    "# Modify the following code to use for loop in place of while loop\n",
    "# Print multiplication table\n",
    "num = 2\n",
    "index = 1\n",
    "while index <= 20:\n",
    "    #print(str(num) + \" x \" + str(index) + \" = \" + str(num * index))\n",
    "    print(\"{:3d} x {:2d} = {:4d}\".format(num, index, num * index))\n",
    "    index += 1\n",
    "\n",
    "print(\"End.\")"
   ]
  },
  {
   "cell_type": "code",
   "execution_count": null,
   "id": "ca4a84ce",
   "metadata": {},
   "outputs": [],
   "source": [
    "# Modify this code to use for loop in place of the while loop\n",
    "\n",
    "# prob: Accept a number from user and calculate sum of all numbers from 1 to that number\n",
    "\n",
    "# for example: if number is 5 then find 1 + 2 + 3 + 4 + 5\n",
    "\n",
    "num = int(input(\"Enter a whole number: \"))\n",
    "\n",
    "i = 1\n",
    "ans = 0\n",
    "\n",
    "# For 5:\n",
    "# ans = 0 + 1\n",
    "# ans = 1 + 2\n",
    "# ans = 3 + 3\n",
    "# ans = 6 + 4\n",
    "# ans = 10 + 5\n",
    "\n",
    "while(i <= num):\n",
    "    ans += i\n",
    "    i += 1\n",
    "    \n",
    "print(ans)\n",
    "\n",
    "# 1+2+3+4+5"
   ]
  },
  {
   "cell_type": "code",
   "execution_count": null,
   "id": "68442e24",
   "metadata": {},
   "outputs": [],
   "source": [
    "# Modify the following code to use for loop in place of while loop\n",
    "# Display the numbers from -10 to -1 in order\n",
    "\n",
    "# -10 -9 -8 .... -1\n",
    "\n",
    "# kind of reverse while loop\n",
    "\n",
    "num = -13\n",
    "\n",
    "while num <= -1:\n",
    "    print(\"{:>3d}\".format(num))\n",
    "    num += 1"
   ]
  },
  {
   "cell_type": "code",
   "execution_count": null,
   "id": "2cfe67ef",
   "metadata": {},
   "outputs": [],
   "source": [
    "# Modify the following code to use for loop in place of while loop\n",
    "# Modify the code such that the output is collected in a list called result, then print the result list\n",
    "\n",
    "# FizzBuzz\n",
    "# Write a program that prints the integers from 1 to 100 (inclusive).\n",
    "# BUT:\n",
    "# for multiples of 3, print Fizz instead of the number,\n",
    "# for multiples of 5, print Buzz instead of the number,\n",
    "# for multiples of both 3 and 5, print FizzBuzz instead of the number.\n",
    "\n",
    "# 1 2 Fizz 4 Buzz Fizz 7 8 Fizz Buzz 11 Fizz 13 14 FizzBuzz 16 17 .....\n",
    "\n",
    "i = 1\n",
    "limit = 100\n",
    "\n",
    "while i <= limit:\n",
    "    \n",
    "    if i % 3 == 0 and i % 5 == 0:\n",
    "        print(\"FizzBuzz\", end=\" \")\n",
    "    elif i % 5 == 0:\n",
    "        print(\"Buzz\", end=\" \")\n",
    "    elif i % 3 == 0:\n",
    "        print(\"Fizz\", end=\" \")\n",
    "    else:\n",
    "        print(i, end=\" \")\n",
    "    \n",
    "    i += 1"
   ]
  },
  {
   "cell_type": "code",
   "execution_count": null,
   "id": "09d698ba",
   "metadata": {},
   "outputs": [],
   "source": [
    "# Modify the following code to use the for loop in place of while loop\n",
    "\n",
    "# Problem: Print the following pattern\n",
    "# 1 --> row num 1\n",
    "# 1 2 --> row num 2\n",
    "# 1 2 3 --> row num 3\n",
    "# 1 2 3 4 --> row num 4\n",
    "# 1 2 3 4 5 --> row num 5\n",
    "\n",
    "rows = 5\n",
    "i = 1\n",
    "while i <= rows:\n",
    "    j = 1\n",
    "    while j <= i:\n",
    "        print(j, end=\" \")\n",
    "        j += 1\n",
    "    print(\"\")\n",
    "    i += 1"
   ]
  },
  {
   "cell_type": "code",
   "execution_count": null,
   "id": "68cc7236",
   "metadata": {},
   "outputs": [],
   "source": [
    "# Create a list of 10 numbers called nums\n",
    "# Ask user to enter a number\n",
    "# if the number entered by user is in the list print \"found\" otherwise print \"not found\"\n"
   ]
  },
  {
   "cell_type": "code",
   "execution_count": null,
   "id": "d9395382",
   "metadata": {},
   "outputs": [],
   "source": [
    "# Write for loops with range function to print the following patterns:\n",
    "\n",
    "# 1, 4, 7, ... up to but not including 50\n",
    "\n",
    "# 10, 20, 30, .... up to and including 100\n",
    "\n",
    "# 10, 9, 8, 7, .... up to but not including -20\n"
   ]
  },
  {
   "cell_type": "code",
   "execution_count": null,
   "id": "f37f2d43",
   "metadata": {},
   "outputs": [],
   "source": [
    "# replace xxxxx below to print the number of characters in the spelling of each fruit\n",
    "fruits = [\"apple\", \"mango\", \"banana\"]\n",
    "\n",
    "for item in fruits:\n",
    "    print(\"xxxxxx\")\n"
   ]
  }
 ],
 "metadata": {
  "kernelspec": {
   "display_name": "Python 3",
   "language": "python",
   "name": "python3"
  },
  "language_info": {
   "codemirror_mode": {
    "name": "ipython",
    "version": 3
   },
   "file_extension": ".py",
   "mimetype": "text/x-python",
   "name": "python",
   "nbconvert_exporter": "python",
   "pygments_lexer": "ipython3",
   "version": "3.8.8"
  }
 },
 "nbformat": 4,
 "nbformat_minor": 5
}
