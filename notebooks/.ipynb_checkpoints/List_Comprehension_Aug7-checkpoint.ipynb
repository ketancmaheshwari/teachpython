{
 "cells": [
  {
   "cell_type": "code",
   "execution_count": null,
   "id": "5e4287e1",
   "metadata": {},
   "outputs": [],
   "source": [
    "# List comprehension!\n",
    "# A new way to create lists quickly\n",
    "# The syntax\n",
    "# English like!\n",
    "# newlist = [expression for item in somelist if condition == True]\n",
    "\n",
    "# 1. apply the for loop --> list\n",
    "# 2. apply the if condition (only if present) to above items\n",
    "# 3. apply the expression to above items\n"
   ]
  },
  {
   "cell_type": "code",
   "execution_count": 6,
   "id": "271ae183",
   "metadata": {},
   "outputs": [
    {
     "name": "stdout",
     "output_type": "stream",
     "text": [
      "['banana', 'mango']\n"
     ]
    }
   ],
   "source": [
    "# List comprehension\n",
    "\n",
    "fruits = [\"apple\", \"banana\", \"cherry\", \"kiwi\", \"mango\"]\n",
    "newlist = []\n",
    "\n",
    "for x in fruits: # for all items in fruits list\n",
    "  if \"a\" in x:   # if any item contains \"a\"\n",
    "    newlist.append(x)\n",
    "\n",
    "#print(newlist)\n",
    "\n",
    "#          exp for item in list if condition\n",
    "newlist = [x for x in fruits if \"n\" in x]\n",
    "\n",
    "print(newlist)"
   ]
  },
  {
   "cell_type": "code",
   "execution_count": 7,
   "id": "b9558bc5",
   "metadata": {},
   "outputs": [
    {
     "name": "stdout",
     "output_type": "stream",
     "text": [
      "['banana', 'cherry', 'kiwi', 'mango']\n"
     ]
    }
   ],
   "source": [
    "fruits = [\"apple\", \"banana\", \"cherry\", \"kiwi\", \"mango\"]\n",
    "\n",
    "# except apple\n",
    "newlist = [x for x in fruits if x != \"apple\"] \n",
    "print(newlist)"
   ]
  },
  {
   "cell_type": "code",
   "execution_count": 12,
   "id": "9724fe02",
   "metadata": {},
   "outputs": [
    {
     "name": "stdout",
     "output_type": "stream",
     "text": [
      "['apple', 'banana', 'cherry', 'kiwi', 'mango']\n",
      "['my apple', 'my banana', 'my cherry', 'my kiwi', 'my mango']\n",
      "[5, 6, 6, 4, 5]\n"
     ]
    }
   ],
   "source": [
    "fruits = [\"apple\", \"banana\", \"cherry\", \"kiwi\", \"mango\"]\n",
    "\n",
    "# without if\n",
    "newlist1 = [x for x in fruits]\n",
    "newlist2 = [\"my \"+x for x in fruits]\n",
    "newlist3 = [len(x) for x in fruits]\n",
    "\n",
    "print(newlist1)\n",
    "print(newlist2)\n",
    "print(newlist3)"
   ]
  },
  {
   "cell_type": "code",
   "execution_count": 13,
   "id": "b162243d",
   "metadata": {},
   "outputs": [
    {
     "name": "stdout",
     "output_type": "stream",
     "text": [
      "[0, 1, 2, 3, 4, 5, 6, 7, 8, 9]\n",
      "[0, 1, 4, 9, 16, 25, 36, 49, 64, 81]\n"
     ]
    }
   ],
   "source": [
    "# with the range function\n",
    "newlist = [x for x in range(10)]\n",
    "print(newlist)\n",
    "\n",
    "squares = [x**2 for x in range(10)]\n",
    "print(squares)"
   ]
  },
  {
   "cell_type": "code",
   "execution_count": 14,
   "id": "41d12a6e",
   "metadata": {},
   "outputs": [
    {
     "name": "stdout",
     "output_type": "stream",
     "text": [
      "[0, 1, 2, 3, 4]\n"
     ]
    }
   ],
   "source": [
    "# with range and if\n",
    "newlist = [x for x in range(10) if x < 5]\n",
    "print(newlist)"
   ]
  },
  {
   "cell_type": "code",
   "execution_count": null,
   "id": "425693f8",
   "metadata": {},
   "outputs": [],
   "source": [
    "fruits = [\"apple\", \"banana\", \"cherry\", \"kiwi\", \"mango\"]\n",
    "# put orange instead of banana\n",
    "newlist = [x if x != \"banana\" else \"orange\" for x in fruits] \n",
    "print(newlist)"
   ]
  },
  {
   "cell_type": "code",
   "execution_count": 19,
   "id": "5e6b2e5a",
   "metadata": {},
   "outputs": [
    {
     "name": "stdout",
     "output_type": "stream",
     "text": [
      "['H', 'U', 'M', 'A', 'N']\n"
     ]
    }
   ],
   "source": [
    "# with strings\n",
    "h_letters = [letter.upper() for letter in 'human']\n",
    "print(h_letters)"
   ]
  },
  {
   "cell_type": "code",
   "execution_count": null,
   "id": "0b5b649d",
   "metadata": {},
   "outputs": [],
   "source": [
    "# Notes\n",
    "\n",
    "# List comprehension is an elegant way to define and create lists based on existing lists.\n",
    "\n",
    "# List comprehension is generally more compact and faster than normal functions and loops for creating list.\n",
    "\n",
    "# Remember, every list comprehension can be rewritten in for / while loop,\n",
    "#  but every for / while loop can’t be rewritten in the form of list comprehension."
   ]
  }
 ],
 "metadata": {
  "kernelspec": {
   "display_name": "Python 3",
   "language": "python",
   "name": "python3"
  },
  "language_info": {
   "codemirror_mode": {
    "name": "ipython",
    "version": 3
   },
   "file_extension": ".py",
   "mimetype": "text/x-python",
   "name": "python",
   "nbconvert_exporter": "python",
   "pygments_lexer": "ipython3",
   "version": "3.8.8"
  }
 },
 "nbformat": 4,
 "nbformat_minor": 5
}
