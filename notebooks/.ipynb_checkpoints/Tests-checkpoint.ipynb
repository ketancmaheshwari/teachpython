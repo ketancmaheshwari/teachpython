{
 "cells": [
  {
   "cell_type": "code",
   "execution_count": null,
   "id": "a9d12e01",
   "metadata": {},
   "outputs": [],
   "source": [
    "# Following is the recipe to find Greatest Common Divisor (GCD, also called HCF) of two numbers. \n",
    "# Convert it to python code\n",
    "\n",
    "# step 1. Let the two numbers be A and B (eg. A = 1220 and B = 516)\n",
    "A = int(input(\"Enter first number: \"))\n",
    "B = int(input(\"Enter second number: \"))\n",
    "\n",
    "# step 2. If A is 0 the answer is B\n",
    "if A == 0:\n",
    "    print(\"Answer is \"+str(B))\n",
    "\n",
    "# step 3. if B is 0 the answer is A\n",
    "if B == 0:\n",
    "    print(\"Answer is \"+str(A))\n",
    "\n",
    "# step 4. Otherwise, find the reminder R when A is devided by B (using modulus operator)\n",
    "R = A % B\n",
    "\n",
    "while R > 0:\n",
    "    # step 5. Overwrite A with B and B with R\n",
    "    A = B\n",
    "    B = R\n",
    "    R = A % B\n",
    "\n",
    "# step 6. Repeat steps 4 and 5 as long as A mod B is greater than 0\n",
    "# step 6 is the while loop\n",
    "    \n",
    "# step 7. The current value of B is the answer.\n",
    "print(\"Answer is \"+str(B))"
   ]
  },
  {
   "cell_type": "code",
   "execution_count": 26,
   "id": "ad74b172",
   "metadata": {},
   "outputs": [
    {
     "name": "stdout",
     "output_type": "stream",
     "text": [
      "261\n"
     ]
    }
   ],
   "source": [
    "# even -- devide by 2\n",
    "# odd -- multiply by 3 add 1\n",
    "\n",
    "countlist = []\n",
    "for i in range(1,10001):\n",
    "    #print(\" \")\n",
    "    j = i\n",
    "    count=0\n",
    "    while j != 1:\n",
    "        count += 1\n",
    "        #print(j, end=\" \")\n",
    "        if j % 2 == 0:\n",
    "            j //= 2\n",
    "        else:\n",
    "            j = j*3 + 1\n",
    "    \n",
    "    countlist.append(count)\n",
    "\n",
    "print(max(countlist))\n"
   ]
  },
  {
   "cell_type": "code",
   "execution_count": 11,
   "id": "f1892f98",
   "metadata": {},
   "outputs": [
    {
     "name": "stdout",
     "output_type": "stream",
     "text": [
      "Help on module myutils:\n",
      "\n",
      "NAME\n",
      "    myutils\n",
      "\n",
      "FILE\n",
      "    /Users/km0/notebooks/myutils.py\n",
      "\n",
      "\n"
     ]
    }
   ],
   "source": [
    "import myutils as mu\n",
    "help(mu)"
   ]
  },
  {
   "cell_type": "code",
   "execution_count": null,
   "id": "019a030a",
   "metadata": {},
   "outputs": [],
   "source": []
  }
 ],
 "metadata": {
  "kernelspec": {
   "display_name": "Python 3",
   "language": "python",
   "name": "python3"
  },
  "language_info": {
   "codemirror_mode": {
    "name": "ipython",
    "version": 3
   },
   "file_extension": ".py",
   "mimetype": "text/x-python",
   "name": "python",
   "nbconvert_exporter": "python",
   "pygments_lexer": "ipython3",
   "version": "3.8.8"
  }
 },
 "nbformat": 4,
 "nbformat_minor": 5
}
