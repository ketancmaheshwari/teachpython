{
 "cells": [
  {
   "cell_type": "code",
   "execution_count": 1,
   "id": "d7e802d6",
   "metadata": {},
   "outputs": [
    {
     "name": "stdout",
     "output_type": "stream",
     "text": [
      "Enter your name: Amit\n"
     ]
    }
   ],
   "source": [
    "# Files -- what are they?\n",
    "\n",
    "# .pdf, word files (.doc, .docx)\n",
    "# .jpg, .png, .gif, .tiff -- picture files\n",
    "# .dat, .mp4, -- video files\n",
    "# .mp3, .wav -- audio files\n",
    "# .txt -- text files\n",
    "# .exe -- executable files\n",
    "\n",
    "# What is a file?\n",
    "# A file is a named object that has some kind of data in it. \n",
    "# A file resides on disk or ssd (solid state drives).\n",
    "# In other words, files are persistent named objects containing data.\n",
    "\n",
    "\n",
    "# Memory and disk! \n",
    "# whatever is in memory will stay in memory only while the computer is on!\n",
    "# wiped clean at power off.\n",
    "\n",
    "# Files have access rights! \n",
    "# Files usually live in directories / folders\n",
    "# Technically directories are files that contains other files and directories.\n"
   ]
  },
  {
   "cell_type": "code",
   "execution_count": null,
   "id": "a204790d",
   "metadata": {},
   "outputs": [],
   "source": [
    "# Common operations on files\n",
    "\n",
    "# Create\n",
    "# Open\n",
    "# Read from a file\n",
    "# Write to a file\n",
    "# Close\n",
    "# Delete\n",
    "\n",
    "# Rare operations\n",
    "\n",
    "# Change access rights\n",
    "# Change ownership\n",
    "\n",
    "# For this course, we will only work with text files.\n",
    "\n"
   ]
  },
  {
   "cell_type": "code",
   "execution_count": null,
   "id": "e00744ec",
   "metadata": {},
   "outputs": [],
   "source": [
    "# Overview of workflow to work with files\n",
    "\n",
    "# step 1. open the file\n",
    "# file object open function     name of file        mode(to read)\n",
    "mybooks =     open(           \"books.txt\",          \"r\")\n",
    "\n",
    "print(mybooks.read())\n",
    "\n",
    "mybooks.close() # important to close file after you are done!"
   ]
  },
  {
   "cell_type": "code",
   "execution_count": 27,
   "id": "34d3f7c7",
   "metadata": {},
   "outputs": [
    {
     "name": "stdout",
     "output_type": "stream",
     "text": [
      "﻿The Project Gutenberg eBook of The Junior Trophy, by Ralph Henry\n",
      "\n"
     ]
    }
   ],
   "source": [
    "abook = open(\"junior_trophy.txt\", \"r\")\n",
    "\n",
    "#print(abook.read()) # read entire file\n",
    "\n",
    "#print(abook.read(100)) # first 100 bytes of the file!\n",
    "\n",
    "#print(abook.readline()) # Read one line\n",
    "\n",
    "print(abook.readline(300))\n",
    "abook.close()"
   ]
  },
  {
   "cell_type": "code",
   "execution_count": 31,
   "id": "c7b718cf",
   "metadata": {},
   "outputs": [
    {
     "name": "stdout",
     "output_type": "stream",
     "text": [
      "The file has 7828 lines\n"
     ]
    }
   ],
   "source": [
    "abook = open(\"junior_trophy.txt\", \"r\")\n",
    "n = 0\n",
    "for i in abook:\n",
    "    #print(i)\n",
    "    n += 1\n",
    "\n",
    "print(\"The file has {} lines\".format(n))\n",
    "abook.close()"
   ]
  },
  {
   "cell_type": "code",
   "execution_count": null,
   "id": "21bce889",
   "metadata": {},
   "outputs": [],
   "source": [
    "# Collect all lines of a file in a list\n",
    "\n",
    "abook = open(\"junior_trophy.txt\", \"r\")\n",
    "\n",
    "all_lines = list(abook)\n",
    "\n",
    "abook.seek(0) # offsetting to the beginning of file\n",
    "\n",
    "all_lines_again = list(abook)\n",
    "\n",
    "#print(all_lines[6102])\n",
    "\n",
    "print(all_lines_again)\n",
    "\n",
    "abook.close()"
   ]
  },
  {
   "cell_type": "code",
   "execution_count": null,
   "id": "ab6da2cd",
   "metadata": {},
   "outputs": [],
   "source": [
    "mybooks =     open(           \"books.txt\",          \"r\")\n",
    "\n",
    "for line in mybooks:\n",
    "    print(line)\n",
    "\n",
    "mybooks.seek(0) # resetting the offset!\n",
    "\n",
    "for line2 in mybooks:\n",
    "    print(line2)\n",
    "    \n",
    "mybooks.close()"
   ]
  },
  {
   "cell_type": "code",
   "execution_count": null,
   "id": "80a7aae2",
   "metadata": {},
   "outputs": [],
   "source": []
  }
 ],
 "metadata": {
  "kernelspec": {
   "display_name": "Python 3",
   "language": "python",
   "name": "python3"
  },
  "language_info": {
   "codemirror_mode": {
    "name": "ipython",
    "version": 3
   },
   "file_extension": ".py",
   "mimetype": "text/x-python",
   "name": "python",
   "nbconvert_exporter": "python",
   "pygments_lexer": "ipython3",
   "version": "3.8.8"
  }
 },
 "nbformat": 4,
 "nbformat_minor": 5
}
