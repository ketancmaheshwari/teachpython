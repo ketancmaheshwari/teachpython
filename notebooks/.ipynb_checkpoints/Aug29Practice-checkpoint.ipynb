{
 "cells": [
  {
   "cell_type": "code",
   "execution_count": null,
   "id": "a5cce29f",
   "metadata": {},
   "outputs": [],
   "source": [
    "# Write a program to add a key to a dictionary.\n",
    "# Sample Dictionary : {0: 10, 1: 20}\n",
    "# Expected Result : {0: 10, 1: 20, 2: 30}"
   ]
  },
  {
   "cell_type": "code",
   "execution_count": null,
   "id": "8e8c0e69",
   "metadata": {},
   "outputs": [],
   "source": [
    "# Write a Python program to concatenate following dictionaries to create a new one.\n",
    "\n",
    "# Sample Dictionary :\n",
    "dic1 = {1:10, 2:20}\n",
    "dic2 = {3:30, 4:40}\n",
    "dic3 = {5:50, 6:60}\n",
    "# Expected Result : {1: 10, 2: 20, 3: 30, 4: 40, 5: 50, 6: 60}"
   ]
  },
  {
   "cell_type": "code",
   "execution_count": null,
   "id": "0be264b6",
   "metadata": {},
   "outputs": [],
   "source": [
    "# Write a program to print a dictionary \n",
    "# where the keys are numbers between 1 and 15 (both included) and the values are square of keys.\n",
    "# Expected output:\n",
    "# {1: 1, 2: 4, 3: 9, 4: 16, 5: 25, 6: 36, 7: 49, 8: 64, 9: 81, 10: 100, 11: 121, 12: 144, 13: 169, 14: 196, 15: 225}"
   ]
  },
  {
   "cell_type": "code",
   "execution_count": null,
   "id": "3235a3d4",
   "metadata": {},
   "outputs": [],
   "source": [
    "# Write a Python program to find the sumtotal all the values in the following dictionary:\n",
    "# {1: 10, 2: 20, 3: 30, 4: 40, 5: 50, 6: 60}"
   ]
  },
  {
   "cell_type": "code",
   "execution_count": null,
   "id": "22e296b1",
   "metadata": {},
   "outputs": [],
   "source": [
    "# Consider the following dictionary:\n",
    "\n",
    "philo = {\n",
    "    \"name\": \"Plato\",\n",
    "    \"country\": \"Ancient Greece\",\n",
    "    \"born\": -427,\n",
    "    \"teacher\": \"Socrates\",\n",
    "    \"student\": \"Aristotle\"\n",
    "}\n",
    "\n",
    "# update the dictionary to change the value for born to \"428 BC\"\n",
    "\n",
    "print(philo[\"born\"])\n"
   ]
  },
  {
   "cell_type": "code",
   "execution_count": null,
   "id": "72c9451c",
   "metadata": {},
   "outputs": [],
   "source": [
    "# Given the following dictionary:\n",
    "\n",
    "stock = {\n",
    "    'gold' : 500,\n",
    "    'pouch' : ['flint', 'twine', 'gemstone'],\n",
    "    'backpack' : ['xylophone','dagger', 'bedroll','bread loaf']\n",
    "}\n",
    "\n",
    "# Add a key to inventory called 'pocket'. Set the value of 'pocket'\n",
    "# to be a list consisting of the strings 'seashell', 'strange berry', and 'lint'.\n",
    "\n",
    "# Then remove 'dagger' from the list of items stored under the 'backpack' key.\n",
    "\n",
    "# Add 50 to the value of 'gold' key and print it\n"
   ]
  },
  {
   "cell_type": "code",
   "execution_count": null,
   "id": "a4544754",
   "metadata": {},
   "outputs": [],
   "source": [
    "# Consider the following two dictionaries:\n",
    "\n",
    "stock = {\n",
    "    \"banana\": 6,\n",
    "    \"apple\": 0,\n",
    "    \"orange\": 32,\n",
    "    \"pear\": 15\n",
    "}\n",
    "\n",
    "prices = {\n",
    "    \"banana\": 4,\n",
    "    \"apple\": 2,\n",
    "    \"orange\": 1.5,\n",
    "    \"pear\": 3\n",
    "}\n",
    "\n",
    "# Combine the two dictionaries to create a new nested dictionary called \n",
    "# \"inventory\" that has outer keys as fruits and inner keys as stock and prices. \n",
    "\n",
    "# For example:\n",
    "\n",
    "# \"banana\": {stock: 6, prices: 4}, ..."
   ]
  }
 ],
 "metadata": {
  "kernelspec": {
   "display_name": "Python 3",
   "language": "python",
   "name": "python3"
  },
  "language_info": {
   "codemirror_mode": {
    "name": "ipython",
    "version": 3
   },
   "file_extension": ".py",
   "mimetype": "text/x-python",
   "name": "python",
   "nbconvert_exporter": "python",
   "pygments_lexer": "ipython3",
   "version": "3.8.8"
  }
 },
 "nbformat": 4,
 "nbformat_minor": 5
}
