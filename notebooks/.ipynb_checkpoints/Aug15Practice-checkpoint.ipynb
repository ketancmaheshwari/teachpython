{
 "cells": [
  {
   "cell_type": "code",
   "execution_count": null,
   "id": "d681b68e",
   "metadata": {},
   "outputs": [],
   "source": [
    "# Create a file named trees.txt that has the following contents (without #):\n",
    "\n",
    "# Neem\n",
    "# Mango\n",
    "# Argan\n",
    "# Eucalyptus\n",
    "# Oak\n",
    "\n",
    "# Following code reads from the file, converts each tree name to capital letters and prints. \n",
    "# Fill up the missing parts in the code, make sure to close the file at the end\n",
    "\n",
    "trees = open(\"\", \"\")\n",
    "\n",
    "for t in :\n",
    "    print(t.upper())\n",
    "    \n",
    "#close file"
   ]
  },
  {
   "cell_type": "code",
   "execution_count": null,
   "id": "89873515",
   "metadata": {},
   "outputs": [],
   "source": [
    "# Following function returns the cube of numbers passed to it\n",
    "\n",
    "def cube(n):\n",
    "    return n**3\n",
    "\n",
    "# create a file called cubes.txt for writing\n",
    "\n",
    "c = open(\"cubes.txt\", \"\") #fill in the blank\n",
    "\n",
    "# in a for loop that iterates from 0 to 100 write the number and its cube to the file\n",
    "\n",
    "for i in range(101):\n",
    "    c.write(i +\" \"+ cube(i) + \"\\n\") # fix this line (hint: you can only write strings to file)\n",
    "\n",
    "# close the file"
   ]
  },
  {
   "cell_type": "code",
   "execution_count": null,
   "id": "c7a0fe35",
   "metadata": {},
   "outputs": [],
   "source": [
    "# Create a file called score.txt that has the following contents (without #):\n",
    "# 64\n",
    "# 23\n",
    "# 31\n",
    "# 78\n",
    "# 109\n",
    "# 68\n",
    "\n",
    "# Create a function called total that takes the filename as argument and returns the sumtotal of the scores\n",
    "# Note: the numbers will be read as string in file that needs to be converted to integers"
   ]
  },
  {
   "cell_type": "code",
   "execution_count": null,
   "id": "794e7999",
   "metadata": {},
   "outputs": [],
   "source": [
    "# Following function takes a number as argument and returns True if the number is a prime and False otherwise\n",
    "\n",
    "def isprime(n):\n",
    "    \n",
    "    if n == 1:\n",
    "        return False\n",
    "    \n",
    "    if n == 2:\n",
    "        return True\n",
    "    \n",
    "    for i in range(2,n):\n",
    "        if n % i == 0:\n",
    "            return False # not prime\n",
    "    \n",
    "    \n",
    "    return True # prime if it reaches here\n",
    "\n",
    "print(isprime(21))\n",
    "print(isprime(23))\n",
    "\n",
    "# Create a file \"testprime.txt\" with the following numbers in it:\n",
    "# 4447\n",
    "# 3517\n",
    "# 6103\n",
    "# 7841\n",
    "# 7919\n",
    "\n",
    "# Test the isprime function by passing each of the numbers in the testprime.txt file and print the output"
   ]
  },
  {
   "cell_type": "code",
   "execution_count": null,
   "id": "5423053a",
   "metadata": {},
   "outputs": [],
   "source": []
  }
 ],
 "metadata": {
  "kernelspec": {
   "display_name": "Python 3",
   "language": "python",
   "name": "python3"
  },
  "language_info": {
   "codemirror_mode": {
    "name": "ipython",
    "version": 3
   },
   "file_extension": ".py",
   "mimetype": "text/x-python",
   "name": "python",
   "nbconvert_exporter": "python",
   "pygments_lexer": "ipython3",
   "version": "3.8.8"
  }
 },
 "nbformat": 4,
 "nbformat_minor": 5
}
