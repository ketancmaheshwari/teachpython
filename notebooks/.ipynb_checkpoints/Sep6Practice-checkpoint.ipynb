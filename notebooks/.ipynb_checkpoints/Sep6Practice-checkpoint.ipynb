{
 "cells": [
  {
   "cell_type": "code",
   "execution_count": null,
   "id": "2eb45a14",
   "metadata": {},
   "outputs": [],
   "source": [
    "\"\"\"\n",
    "Following are the emojis for six die faces:\n",
    "⚀ ⚁ ⚂ ⚃ ⚄ ⚅\n",
    "\n",
    "Create the following functions: \n",
    "init_die() to create a dictionary that contains the values 1-6 as keys and the corresponding emoji as values.\n",
    "throw() to randomly throw the dice to show a random die face out of the six faces.\n",
    "play() where two players plays the dice by throwing it once.\n",
    "result() to find which player wins by comparing the two throws. If both throws are equal, print \"tie\".\n",
    "\"\"\"\n"
   ]
  }
 ],
 "metadata": {
  "kernelspec": {
   "display_name": "Python 3",
   "language": "python",
   "name": "python3"
  },
  "language_info": {
   "codemirror_mode": {
    "name": "ipython",
    "version": 3
   },
   "file_extension": ".py",
   "mimetype": "text/x-python",
   "name": "python",
   "nbconvert_exporter": "python",
   "pygments_lexer": "ipython3",
   "version": "3.8.8"
  }
 },
 "nbformat": 4,
 "nbformat_minor": 5
}
