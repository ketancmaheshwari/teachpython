{
 "cells": [
  {
   "cell_type": "code",
   "execution_count": null,
   "id": "b5fd5744",
   "metadata": {},
   "outputs": [],
   "source": [
    "#[start:end:step]\n",
    "# by default start is 0, end is lastindex + 1, step is 1\n",
    "\n",
    "# When step is negative, start becomes from the end of list\n",
    "#         0        1         2\n",
    "lst = ['first', 'second', 'third']\n",
    "#       -3        -2          -1\n",
    "\n",
    "# Show original list\n",
    "print(\"\\nOriginal List:\\n\", lst)\n",
    "\n",
    "print(\"\\nSliced Lists: \")\n",
    "\n",
    "# Display sliced list\n",
    "print(lst[::-1]) # reverse the list!\n",
    "\n",
    "# Display sliced list\n",
    "print(lst[::-3]) # start from the end and go at a step of -3\n",
    "\n",
    "# Display sliced list\n",
    "print(lst[::-2]) # start from the end and go at a step of -2 until index 1"
   ]
  },
  {
   "cell_type": "code",
   "execution_count": null,
   "id": "fd7f2ebf",
   "metadata": {},
   "outputs": [],
   "source": [
    "#       0   1   2   3   4\n",
    "abc = ['a','b','c','d','e']\n",
    "#      -5  -4   -3  -2  -1\n",
    "\n",
    "print(abc[::-4]) # print only last and first items\n",
    "\n",
    "print(abc[::4]) # print only first and last items\n",
    "\n",
    "print(abc[::2])"
   ]
  },
  {
   "cell_type": "code",
   "execution_count": null,
   "id": "fa9a3456",
   "metadata": {},
   "outputs": [],
   "source": [
    "# User defined fuctions\n",
    "# input(prompt)\n",
    "# len(thing)\n",
    "# print(thing)\n",
    "# type(thing)\n",
    "# str(thing), int(thing), float(thing) ....\n",
    "# object functions: list.append(item), list.remove(item) ...\n",
    "\n",
    "# Available by default with python\n",
    "\n",
    "# What is a function?\n",
    "# A function is a named block of code that may be reused!\n",
    "\n",
    "# How to define your own function?\n",
    "# Syntax:\n",
    "#              arg and return are optional \n",
    "#  (can be 0 or more args, 0 or more return statements)\n",
    "# def function_name(arg):\n",
    "#     code\n",
    "#     code\n",
    "#     return something\n",
    "\n",
    "\n",
    "# Two parts: function definition and function invocation!"
   ]
  },
  {
   "cell_type": "code",
   "execution_count": 7,
   "id": "9dd84bc9",
   "metadata": {},
   "outputs": [
    {
     "name": "stdout",
     "output_type": "stream",
     "text": [
      "Hello!\n"
     ]
    }
   ],
   "source": [
    "# Define a function named \"sayhello\" that prints hello message\n",
    "def sayhello():\n",
    "    print(\"Hello!\")\n",
    "    \n",
    "# invoke / use / call the function\n",
    "sayhello()"
   ]
  },
  {
   "cell_type": "code",
   "execution_count": 11,
   "id": "7eb66ae1",
   "metadata": {},
   "outputs": [
    {
     "name": "stdout",
     "output_type": "stream",
     "text": [
      "110\n",
      "Eagle\n",
      "Hello\n",
      "The Eagle has landed\n"
     ]
    }
   ],
   "source": [
    "# Define a function \"say\" with an argument and make the function print that argument\n",
    "def say(msg):\n",
    "    print(msg)\n",
    "    \n",
    "\n",
    "# invoke / use / call the function\n",
    "say(110)\n",
    "say(\"Eagle\")\n",
    "say(\"Hello\")\n",
    "say(\"The Eagle has landed\")"
   ]
  },
  {
   "cell_type": "code",
   "execution_count": 15,
   "id": "a449f837",
   "metadata": {},
   "outputs": [
    {
     "name": "stdout",
     "output_type": "stream",
     "text": [
      "1 2\n",
      "True False\n",
      "Tom Jerry\n"
     ]
    }
   ],
   "source": [
    "# Define a function \"saytwothings\" with two arguments and make\n",
    "# the function print those arguments\n",
    "def saytwothings(msg1, msg2):\n",
    "    print(msg1, msg2)\n",
    "\n",
    "saytwothings(1, 2)\n",
    "saytwothings(True, False)\n",
    "saytwothings(\"Tom\", \"Jerry\")"
   ]
  },
  {
   "cell_type": "code",
   "execution_count": 16,
   "id": "5ce66c1c",
   "metadata": {},
   "outputs": [
    {
     "name": "stdout",
     "output_type": "stream",
     "text": [
      "56\n"
     ]
    }
   ],
   "source": [
    "def addtwothings(thing1, thing2):\n",
    "    sum = thing1 + thing2\n",
    "    print(sum)\n",
    "\n",
    "addtwothings(22, 34)"
   ]
  },
  {
   "cell_type": "code",
   "execution_count": 19,
   "id": "4e11d770",
   "metadata": {},
   "outputs": [
    {
     "name": "stdout",
     "output_type": "stream",
     "text": [
      "something\n",
      "something\n"
     ]
    }
   ],
   "source": [
    "# Write a function \"returnmesomething\" that returns something\n",
    "def returnmesomething():\n",
    "    return \"something\"\n",
    "\n",
    "# invoke the function\n",
    "print(returnmesomething())\n",
    "val = returnmesomething()\n",
    "print(val)"
   ]
  },
  {
   "cell_type": "code",
   "execution_count": 20,
   "id": "fced8ae7",
   "metadata": {},
   "outputs": [
    {
     "name": "stdout",
     "output_type": "stream",
     "text": [
      "0\n",
      "49\n"
     ]
    }
   ],
   "source": [
    "# Write a function square, that returns the square of the argument\n",
    "def square(num): # num is a \"formal\" argument\n",
    "    return num**2\n",
    "\n",
    "ans = 0\n",
    "print(ans) # ans is a \"real\" argument\n",
    "ans = square(7) # invoke\n",
    "print(ans)\n",
    "\n"
   ]
  },
  {
   "cell_type": "code",
   "execution_count": 23,
   "id": "b4373874",
   "metadata": {},
   "outputs": [
    {
     "name": "stdout",
     "output_type": "stream",
     "text": [
      "279841\n",
      "8\n",
      "9\n"
     ]
    }
   ],
   "source": [
    "# Define a function called \"power\" that takes two arguments \n",
    "# base, and exponent and calculates the base raised to exponent\n",
    "\n",
    "def power(base, exponent):\n",
    "    ans = base ** exponent\n",
    "    return ans\n",
    "\n",
    "a = 23\n",
    "b = 4\n",
    "result = power(a, b)\n",
    "\n",
    "print(result)\n",
    "\n",
    "print(power(2,3))\n",
    "print(power(3,2))"
   ]
  },
  {
   "cell_type": "code",
   "execution_count": 28,
   "id": "927ac7fd",
   "metadata": {},
   "outputs": [
    {
     "name": "stdout",
     "output_type": "stream",
     "text": [
      "2\n",
      "120\n",
      "479001600\n"
     ]
    },
    {
     "ename": "NameError",
     "evalue": "name 'factorial' is not defined",
     "output_type": "error",
     "traceback": [
      "\u001b[0;31m---------------------------------------------------------------------------\u001b[0m",
      "\u001b[0;31mNameError\u001b[0m                                 Traceback (most recent call last)",
      "\u001b[0;32m<ipython-input-28-b3702bbaf3dc>\u001b[0m in \u001b[0;36m<module>\u001b[0;34m\u001b[0m\n\u001b[1;32m     14\u001b[0m \u001b[0;32mdel\u001b[0m \u001b[0mfactorial\u001b[0m\u001b[0;34m\u001b[0m\u001b[0;34m\u001b[0m\u001b[0m\n\u001b[1;32m     15\u001b[0m \u001b[0;34m\u001b[0m\u001b[0m\n\u001b[0;32m---> 16\u001b[0;31m \u001b[0mprint\u001b[0m\u001b[0;34m(\u001b[0m\u001b[0mfactorial\u001b[0m\u001b[0;34m(\u001b[0m\u001b[0;36m4\u001b[0m\u001b[0;34m)\u001b[0m\u001b[0;34m)\u001b[0m\u001b[0;34m\u001b[0m\u001b[0;34m\u001b[0m\u001b[0m\n\u001b[0m",
      "\u001b[0;31mNameError\u001b[0m: name 'factorial' is not defined"
     ]
    }
   ],
   "source": [
    "# Define a function factorial that takes a number as argument and returns its factorial\n",
    "def factorial(num):\n",
    "    ans = 1\n",
    "    for i in range(1, num + 1):\n",
    "        ans = ans * i\n",
    "    \n",
    "    return ans\n",
    "\n",
    "# invoke factorial function for 2 and then for 5 and then for 12\n",
    "print(factorial(2))\n",
    "print(factorial(5))\n",
    "print(factorial(12))\n",
    "\n",
    "del factorial # un-define the function / destroy the function\n",
    "print(factorial(4))"
   ]
  },
  {
   "cell_type": "code",
   "execution_count": 29,
   "id": "dcae04b3",
   "metadata": {},
   "outputs": [
    {
     "name": "stdout",
     "output_type": "stream",
     "text": [
      "456\n",
      "448\n"
     ]
    }
   ],
   "source": [
    "# Define a function \"compute_result\" that takes a list of marks and calculates total\n",
    "\n",
    "def compute_result(markslist):\n",
    "    total = 0\n",
    "    for i in markslist:\n",
    "        total += i\n",
    "    \n",
    "    return total\n",
    "\n",
    "\n",
    "student1 = [89, 91, 97, 87, 92]\n",
    "student2 = [90, 88, 87, 89, 94]\n",
    "\n",
    "print(compute_result(student1))\n",
    "print(compute_result(student2))\n",
    "    "
   ]
  },
  {
   "cell_type": "code",
   "execution_count": null,
   "id": "9b59e4b8",
   "metadata": {},
   "outputs": [],
   "source": []
  }
 ],
 "metadata": {
  "kernelspec": {
   "display_name": "Python 3",
   "language": "python",
   "name": "python3"
  },
  "language_info": {
   "codemirror_mode": {
    "name": "ipython",
    "version": 3
   },
   "file_extension": ".py",
   "mimetype": "text/x-python",
   "name": "python",
   "nbconvert_exporter": "python",
   "pygments_lexer": "ipython3",
   "version": "3.8.8"
  }
 },
 "nbformat": 4,
 "nbformat_minor": 5
}
