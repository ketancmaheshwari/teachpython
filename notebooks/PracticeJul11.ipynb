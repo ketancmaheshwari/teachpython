{
 "cells": [
  {
   "cell_type": "code",
   "execution_count": null,
   "id": "6f0c033c",
   "metadata": {},
   "outputs": [],
   "source": [
    "# Fix the program\n",
    "# Problem: Read cost price and sell price from user and decide if profit or loss made on the sale\n",
    "\n",
    "cp = input(\"Cost price: \")\n",
    "sp = input(\"Sell price: \")\n",
    "\n",
    "profit_or_loss = cp - sp\n",
    "\n",
    "if profitorloss > 0:\n",
    "    print(\"You made a profit of \" + str(profit_or_loss))\n",
    "elif profitorloss = 0:\n",
    "    print(\"You were breakeven (no profit no loss)\")\n",
    "else\n",
    "    print(\"You made a loss of \" + str(profitorloss))"
   ]
  },
  {
   "cell_type": "code",
   "execution_count": null,
   "id": "b8b18768",
   "metadata": {},
   "outputs": [],
   "source": [
    "# Fix the program\n",
    "# Problem: Ask user to enter a whole number and determine if it is odd or even\n",
    "\n",
    "num = input(\"Enter a whole number: \")\n",
    "\n",
    "if num % 2 = 0:\n",
    "print(\"The number is even\")\n",
    "else\n",
    "    print(\"The number is odd\")"
   ]
  },
  {
   "cell_type": "code",
   "execution_count": null,
   "id": "e250ac22",
   "metadata": {
    "collapsed": true
   },
   "outputs": [],
   "source": [
    "# Problem: Admission to a professional course is subject to the following conditions:\n",
    "# At least 60 marks in Math\n",
    "# At least 50 marks in Physics\n",
    "# At least 40 marks in Chemistry\n",
    "# At least 200 total of the above three\n",
    "\n",
    "# OR\n",
    "\n",
    "# At least 150 total in Math and Physics\n",
    "\n",
    "# Ask user to enter the marks in Math, Physics and Chemistry and determine if user is eligible to admission"
   ]
  },
  {
   "cell_type": "code",
   "execution_count": null,
   "id": "0157bf19",
   "metadata": {},
   "outputs": [],
   "source": [
    "# Problem: An electricity board charges the following rates for use of electricity:\n",
    "# 80 paise (cents) per unit for the first 200 units\n",
    "# 90 paise (cents) per unit for the next 100 units\n",
    "# 100 paise (cents) per unit beyond 300 units\n",
    "# All users are charged a minimum 100 Rs ($ / €)\n",
    "# If the total consumption is more that 400 units, additional surcharge of 15% of total amount is charged\n",
    "# Write a program to read electricity consumption units from user and print out their total charge.\n"
   ]
  }
 ],
 "metadata": {
  "kernelspec": {
   "display_name": "Python 3",
   "language": "python",
   "name": "python3"
  },
  "language_info": {
   "codemirror_mode": {
    "name": "ipython",
    "version": 3
   },
   "file_extension": ".py",
   "mimetype": "text/x-python",
   "name": "python",
   "nbconvert_exporter": "python",
   "pygments_lexer": "ipython3",
   "version": "3.8.8"
  }
 },
 "nbformat": 4,
 "nbformat_minor": 5
}
