{
 "cells": [
  {
   "cell_type": "code",
   "execution_count": 16,
   "id": "dbfd15a2",
   "metadata": {},
   "outputs": [],
   "source": [
    "# fileobject = open(\"filename\", \"r\") --> To read a file as seen yesterday\n",
    "\n",
    "o = open(\"output.txt\", \"w\") # open a file to write\n",
    "# If output.txt file does not exist, it will be created\n",
    "# If output.txt file exists, then it will be overwritten\n",
    "\n",
    "o.write(\"Alpha\\n\") # \\n at the end of every line to open a newline in output\n",
    "o.write(\"Beta\\n\")\n",
    "o.write(\"Gamma\\n\")\n",
    "\n",
    "o.close()"
   ]
  },
  {
   "cell_type": "code",
   "execution_count": 17,
   "id": "894f18ec",
   "metadata": {},
   "outputs": [],
   "source": [
    "# Append to an existing file\n",
    "\n",
    "f = open(\"output.txt\", \"a\") # open a file to append\n",
    "# f is called file object / file handle\n",
    "\n",
    "f.write(\"Delta\\n\")\n",
    "f.write(\"Omega\\n\")\n",
    "f.write(str(25)+\"\\n\")\n",
    "\n",
    "f.close()"
   ]
  },
  {
   "cell_type": "code",
   "execution_count": 19,
   "id": "5c7c9d98",
   "metadata": {},
   "outputs": [],
   "source": [
    "# Prob: Read from one file and write to another file\n",
    "\n",
    "# open first file to read from\n",
    "f1 = open(\"output.txt\",\"r\")\n",
    "\n",
    "# open second file to write to\n",
    "f2 = open(\"output2.txt\", \"w\")\n",
    "\n",
    "\n",
    "for l in f1:\n",
    "    f2.write(l)\n",
    "\n",
    "f1.close()\n",
    "f2.close()\n"
   ]
  },
  {
   "cell_type": "code",
   "execution_count": null,
   "id": "c343927d",
   "metadata": {},
   "outputs": [],
   "source": [
    "# Prob: Create a function that takes a filename as argument and returns nth line\n",
    "#  in that file\n",
    "\n",
    "\n",
    "def read_a_file(filename, n):\n",
    "    \n",
    "    fo = open(filename, \"r\")\n",
    "    counter = 0\n",
    "    \n",
    "    for l in fo:\n",
    "        counter += 1\n",
    "        if counter == n:\n",
    "            return l\n",
    "        \n",
    "\n",
    "print(read_a_file(\"output.txt\", 2))"
   ]
  },
  {
   "cell_type": "code",
   "execution_count": null,
   "id": "88c6853f",
   "metadata": {},
   "outputs": [],
   "source": [
    "# prob: create a function and test it by receiving inputs from a file\n",
    "\n",
    "def factorial(n):\n",
    "    \n",
    "    ans = 1\n",
    "    \n",
    "    for i in range(1, n+1):\n",
    "        ans *= i\n",
    "    \n",
    "    return ans\n",
    "\n",
    "\n",
    "testinput = open(\"factin.txt\", \"r\")\n",
    "\n",
    "for l in testinput:\n",
    "    # when reading a file, the line is always str, so convert to int\n",
    "    print(factorial(int(l))) \n",
    "    \n",
    "testinput.close()"
   ]
  },
  {
   "cell_type": "code",
   "execution_count": null,
   "id": "5716e411",
   "metadata": {},
   "outputs": [],
   "source": [
    "# prob: Create a function to find LCM of two numbers\n",
    "\n",
    "# step 1. find the greater of two numbers\n",
    "# step 2. test weather the greater number devides both numbers evenly\n",
    "# step 3. if it does, then greater is the answer\n",
    "# step 4. otherwise, increment greater by 1 and repeat the step 2\n",
    "\n",
    "# 4, 5\n",
    "# 5, 6, 7, 8, 9, 10, ... 20\n",
    "\n",
    "# Create the function\n",
    "def lcm(a, b):\n",
    "    \n",
    "    if a < b:\n",
    "        greater = b\n",
    "    else:\n",
    "        greater = a\n",
    "        \n",
    "    while True:\n",
    "        if greater % a == 0 and greater % b == 0:\n",
    "            ans = greater\n",
    "            break\n",
    "            \n",
    "        greater += 1\n",
    "    \n",
    "    return ans\n",
    "\n",
    "# Test with inputs taken from a file\n",
    "fo = open(\"lcmin.txt\", \"r\")\n",
    "\n",
    "for l in fo:\n",
    "    t = l.split() # returns a split list\n",
    "    print(lcm(int(t[0]),int(t[1])))\n",
    "\n",
    "fo.close()"
   ]
  }
 ],
 "metadata": {
  "kernelspec": {
   "display_name": "Python 3",
   "language": "python",
   "name": "python3"
  },
  "language_info": {
   "codemirror_mode": {
    "name": "ipython",
    "version": 3
   },
   "file_extension": ".py",
   "mimetype": "text/x-python",
   "name": "python",
   "nbconvert_exporter": "python",
   "pygments_lexer": "ipython3",
   "version": "3.8.8"
  }
 },
 "nbformat": 4,
 "nbformat_minor": 5
}
