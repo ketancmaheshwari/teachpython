{
 "cells": [
  {
   "cell_type": "code",
   "execution_count": null,
   "id": "22fa98f3",
   "metadata": {},
   "outputs": [],
   "source": [
    "# Sets in python\n",
    "\n",
    "# What is a set?\n",
    "# A set is a collection of items / things / elements.\n",
    "# Sets are unordered.\n",
    "# Sets do not contain duplicate items.\n",
    "\n",
    "# In python, set is a data structure, just like lists."
   ]
  },
  {
   "cell_type": "code",
   "execution_count": null,
   "id": "4f244833",
   "metadata": {},
   "outputs": [],
   "source": [
    "# Creating a set\n",
    "\n",
    "a = {1, 2, 3}\n",
    "print(a)\n",
    "\n",
    "fruits = {\"apple\", \"mango\", \"banana\", \"orange\"}\n",
    "colors = {\"red\", \"blue\", \"green\", \"violet\", \"yellow\"}\n",
    "EUCountries = {\"Netherlands\", \"Germany\", \"Belgium\"}\n",
    "\n",
    "\n"
   ]
  },
  {
   "cell_type": "code",
   "execution_count": null,
   "id": "c5b5d4ff",
   "metadata": {},
   "outputs": [],
   "source": [
    "fruits = {\"apple\", \"mango\", \"apple\", \"banana\", \"orange\"}\n",
    "print(type(fruits))\n",
    "print(fruits)"
   ]
  },
  {
   "cell_type": "code",
   "execution_count": null,
   "id": "ee9badd6",
   "metadata": {},
   "outputs": [],
   "source": [
    "# Creating an empty set\n",
    "\n",
    "B = set() # empty set\n",
    "#B = {} # this is not an empty set\n",
    "print(type(B))"
   ]
  },
  {
   "cell_type": "code",
   "execution_count": null,
   "id": "0e0c18f0",
   "metadata": {},
   "outputs": [],
   "source": [
    "# Creating sets out of other data / data structure\n",
    "\n",
    "#list_of_cities = [\"Delhi\", \"Mumbai\", \"Chicago\", \"Amsterdam\", \"Mumbai\"]\n",
    "#print(list_of_cities)\n",
    "\n",
    "#set_of_cities = set(list_of_cities)\n",
    "#print(set_of_cities)\n",
    "\n",
    "name = \"mississippi\"\n",
    "\n",
    "set_name = set(name)\n",
    "print(set_name)"
   ]
  },
  {
   "cell_type": "code",
   "execution_count": null,
   "id": "2d6e35c5",
   "metadata": {},
   "outputs": [],
   "source": [
    "# Add and remove items from a set\n",
    "\n",
    "# Add\n",
    "\n",
    "A = {\"mercury\", \"venus\", \"earth\"}\n",
    "print(A)\n",
    "A.add(\"mars\")\n",
    "print(A)\n",
    "A.add(\"mars\")\n",
    "print(A)\n",
    "\n",
    "\n",
    "# Remove from a set\n",
    "A.remove(\"mars\") # removes the item if present else error\n",
    "print(A)\n",
    "A.discard(\"mars\") # removes the item if present else ignores\n",
    "\n",
    "print(A.pop())\n",
    "print(A)\n",
    "\n",
    "\n"
   ]
  },
  {
   "cell_type": "code",
   "execution_count": null,
   "id": "19bf09bb",
   "metadata": {},
   "outputs": [],
   "source": [
    "B = {3, 5, 7, 11}\n",
    "print(B)\n",
    "B.clear()\n",
    "print(B)"
   ]
  },
  {
   "cell_type": "code",
   "execution_count": null,
   "id": "eafbba99",
   "metadata": {},
   "outputs": [],
   "source": [
    "# Merge two or more sets / add contents of two or more sets\n",
    "\n",
    "furniture = {\"chair\", \"table\", \"couch\", \"bookcase\"}\n",
    "garden = {\"hose\", \"chair\", \"umbrella\"}\n",
    "\n",
    "furniture.update(garden)\n",
    "#print(furniture)\n",
    "\n",
    "garden.update(furniture)\n",
    "#print(garden)\n",
    "\n",
    "\n",
    "a = {1, 2, 3}\n",
    "print(a)\n",
    "\n",
    "b = {\"one\", \"two\", \"three\"}\n",
    "print(b)\n",
    "\n",
    "a |= b # merge or update operator for sets\n",
    "\n",
    "print(a)"
   ]
  },
  {
   "cell_type": "code",
   "execution_count": null,
   "id": "dc17e62c",
   "metadata": {},
   "outputs": [],
   "source": [
    "# Comparison between two sets\n",
    "\n",
    "a = {1, 2, 3}\n",
    "b = {1, 4, 5}\n",
    "\n",
    "print(a.difference(b)) # items in a but not in b\n",
    "print(b.difference(a)) # items in b but not in a\n",
    "\n",
    "print(a.symmetric_difference(b)) # combines the items exclusive in each set"
   ]
  },
  {
   "cell_type": "code",
   "execution_count": null,
   "id": "32056026",
   "metadata": {},
   "outputs": [],
   "source": [
    "# Set intersection\n",
    "a = {1, 2, 3, 6}\n",
    "b = {1, 2, 4, 5}\n",
    "\n",
    "print(a.intersection(b))\n",
    "a.intersection_update(b)\n",
    "print(a)"
   ]
  },
  {
   "cell_type": "code",
   "execution_count": null,
   "id": "61342503",
   "metadata": {},
   "outputs": [],
   "source": [
    "# Set union \n",
    "a = {1, 2, 3, 6}\n",
    "b = {1, 2, 4, 5}\n",
    "\n",
    "print(a.union(b))\n",
    "b.update(a)\n",
    "print(b) # same effect as union_update"
   ]
  },
  {
   "cell_type": "code",
   "execution_count": null,
   "id": "adcd0d9b",
   "metadata": {},
   "outputs": [],
   "source": [
    "# Frozen sets : sets that cannot be modified aka immutable sets\n",
    "fixed_items = frozenset({\"table\", \"chair\", \"bookcase\"})\n",
    "print(fixed_items)\n",
    "\n",
    "#fixed_items.add(\"staircase\") # not allowed\n",
    "#fixed_items.remove(\"table\")  # not allowed\n"
   ]
  },
  {
   "cell_type": "code",
   "execution_count": null,
   "id": "8fb4657e",
   "metadata": {},
   "outputs": [],
   "source": [
    "# supersets and subsets\n",
    "\n",
    "A = {\"apple\", \"dell\", \"ibm\", \"ubuntu\"}\n",
    "B = {\"apple\", \"dell\", \"toshiba\", \"bose\", \"ibm\", \"ubuntu\"}\n",
    "\n",
    "print(A.issubset(B))\n",
    "print(B.issuperset(A))\n",
    "\n",
    "print(A.issuperset(B))\n",
    "print(B.issubset(A))\n"
   ]
  },
  {
   "cell_type": "code",
   "execution_count": null,
   "id": "5781d2d2",
   "metadata": {},
   "outputs": [],
   "source": [
    "# disjoint sets\n",
    "\n",
    "A = {'a', 'g', 'm'}\n",
    "B = {'d', 'o', 'n'}\n",
    "C = {'k', 'l', 'a'}\n",
    "\n",
    "print(A.isdisjoint(B))\n",
    "print(B.isdisjoint(C))\n",
    "print(A.isdisjoint(C))\n"
   ]
  },
  {
   "cell_type": "code",
   "execution_count": null,
   "id": "5963f084",
   "metadata": {},
   "outputs": [],
   "source": [
    "# Some practical examples of sets\n",
    "\n",
    "# Phone numbers \n",
    "# IP addresses\n",
    "# Lattitude, longitude coordinates\n",
    "# PIN / ZIP codes"
   ]
  },
  {
   "cell_type": "code",
   "execution_count": null,
   "id": "c1bd5083",
   "metadata": {},
   "outputs": [],
   "source": [
    "# sets using comprehension\n",
    "\n",
    "V = {x for x in range(23,35)}\n",
    "print(V)"
   ]
  }
 ],
 "metadata": {
  "kernelspec": {
   "display_name": "Python 3",
   "language": "python",
   "name": "python3"
  },
  "language_info": {
   "codemirror_mode": {
    "name": "ipython",
    "version": 3
   },
   "file_extension": ".py",
   "mimetype": "text/x-python",
   "name": "python",
   "nbconvert_exporter": "python",
   "pygments_lexer": "ipython3",
   "version": "3.8.8"
  }
 },
 "nbformat": 4,
 "nbformat_minor": 5
}
