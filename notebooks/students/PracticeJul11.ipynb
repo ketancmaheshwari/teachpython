{
 "cells": [
  {
   "cell_type": "code",
   "execution_count": 12,
   "id": "6f0c033c",
   "metadata": {},
   "outputs": [
    {
     "name": "stdout",
     "output_type": "stream",
     "text": [
      "Cost price: 200\n",
      "Sell price: 400\n",
      "You made a loss of -200.0\n"
     ]
    }
   ],
   "source": [
    "# Fix the program\n",
    "# Problem: Read cost price and sell price from user and decide if profit or loss made on the sale\n",
    "\n",
    "cp = input(\"Cost price: \")\n",
    "sp = input(\"Sell price: \")\n",
    "\n",
    "profit_or_loss = float(cp) - float(sp)\n",
    "\n",
    "if profit_or_loss > 0:\n",
    "    print(\"You made a profit of \" + str(profit_or_loss))\n",
    "elif profit_or_loss == 0:\n",
    "     print(\"You were breakeven (no profit no loss)\")\n",
    "else:\n",
    "    print(\"You made a loss of \" + str(profit_or_loss))"
   ]
  },
  {
   "cell_type": "code",
   "execution_count": 19,
   "id": "b8b18768",
   "metadata": {},
   "outputs": [
    {
     "name": "stdout",
     "output_type": "stream",
     "text": [
      "Enter a whole number: 4\n",
      "The number is even\n"
     ]
    }
   ],
   "source": [
    "# Fix the program\n",
    "# Problem: Ask user to enter a whole number and determine if it is odd or even\n",
    "\n",
    "num = input(\"Enter a whole number: \")\n",
    "\n",
    "if int(num) % 2 == 0:\n",
    "     print(\"The number is even\")\n",
    "else:\n",
    "    print(\"The number is odd\")"
   ]
  },
  {
   "cell_type": "code",
   "execution_count": 3,
   "id": "e250ac22",
   "metadata": {},
   "outputs": [
    {
     "name": "stdout",
     "output_type": "stream",
     "text": [
      "Please enter your Maths marks: 65\n",
      "Please enter your Physics marks: 55\n",
      "Please enter your Chemistry marks: 95\n",
      "yes you are eligible for admission\n"
     ]
    }
   ],
   "source": [
    "# Problem: Admission to a professional course is subject to the following conditions:\n",
    "# At least 60 marks in Math\n",
    "# At least 50 marks in Physics\n",
    "# At least 40 marks in Chemistry\n",
    "# At least 200 total of the above three\n",
    "\n",
    "# OR\n",
    "\n",
    "# At least 150 total in Math and Physics\n",
    "\n",
    "# Ask user to enter the marks in Math, Physics and Chemistry and determine if user is eligible to admission\n",
    "\n",
    "maths = input(\"Please enter your Maths marks: \")\n",
    "physics  = input(\"Please enter your Physics marks: \")\n",
    "chemistry = input(\"Please enter your Chemistry marks: \")\n",
    "\n",
    "total = float(maths) + float(physics) + float(chemistry)\n",
    "\n",
    "total_of_maths_and_physics = float(maths) + float(physics)\n",
    "\n",
    "if float(maths) >= 60 and float(physics) >= 50 and float(chemistry) >= 40 and float(total) >= 200 or float(total_of_maths_and_physics) >= 150:\n",
    "    print(\"yes you are eligible for admission\")\n",
    "else:\n",
    "    print(\"No you are not eligible for admission\")"
   ]
  },
  {
   "cell_type": "code",
   "execution_count": 6,
   "id": "0157bf19",
   "metadata": {},
   "outputs": [
    {
     "name": "stdout",
     "output_type": "stream",
     "text": [
      "Please enter your Electricity consumption in units : 600\n",
      "Your final bill is 747.5\n"
     ]
    }
   ],
   "source": [
    "# Problem: An electricity board charges the following rates for use of electricity:\n",
    "# 80 paise (cents) per unit for the first 200 units\n",
    "# 90 paise (cents) per unit for the next 100 units\n",
    "# 100 paise (cents) per unit beyond 300 units\n",
    "# All users are charged a minimum 100 Rs ($ / €)\n",
    "# If the total consumption is more that 400 units, additional surcharge of 15% of total amount is charged\n",
    "# Write a program to read electricity consumption units from user and print out their total charge.\n",
    "\n",
    "consumption = input('Please enter your Electricity consumption in units : ')\n",
    "\n",
    "bill_amount = 100\n",
    "\n",
    "if float(consumption) <= 200:\n",
    "    bill_amount += 0.8 * float(consumption)\n",
    "    #print(\"You have to pay: Rs\" + str(100 + (0.8 * float(consumption))))\n",
    "\n",
    "elif float(consumption) <= 300:\n",
    "    bill_amount += 0.8 * 200 + 0.9 * (float(consumption) - 200)\n",
    "    #print(\"You have to pay: Rs\" + str(100 + (0.9 * float(consumption))\n",
    "\n",
    "elif float(consumption) >300 and float(consumption) <400:\n",
    "    bill_amount += 0.8 * 200 + 0.9 * 100 + ((1 * float(consumption)) - 300)\n",
    "    #print(\"You have to pay: Rs\" + str(100 + (1 * float(consumption))))\n",
    "\n",
    "elif float(consumption) >= 400:\n",
    "        bill_amount += 0.8 * 200 + 0.9 * 100 + ((1 * float(consumption)) - 300)\n",
    "        bill_amount += 0.15*bill_amount\n",
    "        #print(\"You have to pay: Rs\" + str(100 + 5  /float(consumption)*100 + (1 * float(consumption)) ))\n",
    "        \n",
    "print(\"Your final bill is \"+ str(bill_amount))"
   ]
  },
  {
   "cell_type": "code",
   "execution_count": null,
   "id": "686e91b0",
   "metadata": {},
   "outputs": [],
   "source": [
    "#Will keep asking if you need more until user stops ()\n",
    "#Will ask for wheither single answer is needer or whole table ()\n",
    "#Will give decimal answer if and only if decimal is needed (done)\n",
    "\n",
    "#base = \"\"\n",
    "#limit = \"\"\n",
    "current = 1\n",
    "setup = \"\"\n",
    "repeater = \"\"\n",
    "\n",
    "while repeater != \"N\":\n",
    "\n",
    "        while setup != \"S\" or setup != \"T\" or setup != \"N\":\n",
    "            setup = input('Would you like to generate \"TABLE\" or simply get the \"SOLUTION\" or \"STOP\"? [type T for TABLE, S for solution, or N to stop]')\n",
    "\n",
    "            if setup == \"T\":\n",
    "                base = input(\"Which number would you like?\") \n",
    "                limit = input(\"Until which number would you like the table to continue?\")\n",
    "\n",
    "                if float(base) % 1 == 0: \n",
    "                    base = int(base) \n",
    "                else: \n",
    "                    base = float(base)\n",
    "\n",
    "                if float(limit) % 1 == 0: \n",
    "                    limit = int(limit) \n",
    "                else: \n",
    "                    limit = float(limit)\n",
    "\n",
    "                    while int(current) <= float(limit):\n",
    "\n",
    "                        if type(base) and type(limit) == int: \n",
    "                            print(base*current)\n",
    "                            current += 1\n",
    "\n",
    "                        elif type(base) and type(limit) == float:\n",
    "                            print(base * current)\n",
    "                            current += 1\n",
    "            elif setup == \"S\":\n",
    "                base = input(\"Which number would you like?\") \n",
    "                limit = input(\"Which number would you like to multiply to?\")\n",
    "                if float(base) % 1 == 0: \n",
    "                    base = int(base) \n",
    "                else: \n",
    "                    base = float(base)\n",
    "\n",
    "                if float(limit) % 1 == 0: \n",
    "                    limit = int(limit) \n",
    "                else: \n",
    "                    limit = float(limit)\n",
    "                print(limit * base)\n",
    "\n",
    "            elif setup == \"N\":\n",
    "                repeater = \"N\""
   ]
  }
 ],
 "metadata": {
  "kernelspec": {
   "display_name": "Python 3",
   "language": "python",
   "name": "python3"
  },
  "language_info": {
   "codemirror_mode": {
    "name": "ipython",
    "version": 3
   },
   "file_extension": ".py",
   "mimetype": "text/x-python",
   "name": "python",
   "nbconvert_exporter": "python",
   "pygments_lexer": "ipython3",
   "version": "3.8.8"
  }
 },
 "nbformat": 4,
 "nbformat_minor": 5
}
