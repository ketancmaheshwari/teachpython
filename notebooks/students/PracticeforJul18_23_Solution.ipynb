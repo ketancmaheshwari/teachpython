{
 "cells": [
  {
   "cell_type": "code",
   "execution_count": 1,
   "id": "6ce2216f",
   "metadata": {},
   "outputs": [
    {
     "name": "stdout",
     "output_type": "stream",
     "text": [
      " 1     1      1\n",
      " 2     4      8\n",
      " 3     9     27\n",
      " 4    16     64\n",
      " 5    25    125\n",
      " 6    36    216\n",
      " 7    49    343\n",
      " 8    64    512\n",
      " 9    81    729\n",
      "10   100   1000\n",
      "11   121   1331\n",
      "12   144   1728\n",
      "13   169   2197\n",
      "14   196   2744\n",
      "15   225   3375\n",
      "16   256   4096\n",
      "17   289   4913\n",
      "18   324   5832\n",
      "19   361   6859\n",
      "20   400   8000\n",
      "21   441   9261\n",
      "22   484  10648\n",
      "23   529  12167\n",
      "24   576  13824\n",
      "25   625  15625\n",
      "26   676  17576\n",
      "27   729  19683\n",
      "28   784  21952\n",
      "29   841  24389\n",
      "30   900  27000\n",
      "31   961  29791\n",
      "32  1024  32768\n",
      "33  1089  35937\n",
      "34  1156  39304\n",
      "35  1225  42875\n",
      "36  1296  46656\n",
      "37  1369  50653\n",
      "38  1444  54872\n",
      "39  1521  59319\n",
      "40  1600  64000\n"
     ]
    }
   ],
   "source": [
    "# Prob: Print numbers, their square and cube from 1 to 40\n",
    "# Finish the missing parts from the following code\n",
    "# Format the output appropriately\n",
    "\n",
    "num = 1\n",
    "while num <=40:\n",
    "    print(\"{:2d}  {:4d}  {:5d}\".format(num, num ** 2, num ** 3))\n",
    "    num += 1"
   ]
  },
  {
   "cell_type": "code",
   "execution_count": 1,
   "id": "02994143",
   "metadata": {},
   "outputs": [
    {
     "name": "stdout",
     "output_type": "stream",
     "text": [
      "1 5 9 13 17 21 25 29 33 37 41 45 49 53 57 61 65 69 73 77 "
     ]
    }
   ],
   "source": [
    "# Prob: Write a program to print the following pattern up to 20 terms\n",
    "# 1 5 9 13 17 ...\n",
    "num = 1\n",
    "count = 1\n",
    "while count<=20:\n",
    "    print(num, end=\" \")\n",
    "    num+=4 \n",
    "    count+=1"
   ]
  },
  {
   "cell_type": "code",
   "execution_count": 2,
   "id": "c321e23d",
   "metadata": {},
   "outputs": [
    {
     "name": "stdout",
     "output_type": "stream",
     "text": [
      "-1 -7 -13 -19 -25 -31 -37 -43 -49 -55 "
     ]
    }
   ],
   "source": [
    "# Write a program to print the following pattern up to 10 terms\n",
    "# -1 -7 -13 -19 ...\n",
    "num = -1\n",
    "count = 1\n",
    "while count<=10:\n",
    "    print(num, end=\" \")\n",
    "    num+= -6\n",
    "    count+= 1"
   ]
  },
  {
   "cell_type": "code",
   "execution_count": 24,
   "id": "746ae5ab",
   "metadata": {},
   "outputs": [
    {
     "name": "stdout",
     "output_type": "stream",
     "text": [
      "1  **  1 \n",
      "2  **  2 \n",
      "3  **  3 \n",
      "4  **  4 \n",
      "5  **  5 \n",
      "6  **  6 \n",
      "7  **  7 \n",
      "8  **  8 \n",
      "9  **  9 \n",
      "10 **  10\n",
      "11 **  11\n",
      "12 **  12\n"
     ]
    }
   ],
   "source": [
    "# Fix the following program that prints the following pattern up to 12:\n",
    "# 1**1 2**2 3**3 .. (1 to the power 1, 2 square, 3 cube ...)\n",
    "\n",
    "i = 1\n",
    "while i <= 12:\n",
    "    print(\"{:<2d} **  {:<2d}\".format(i,i))\n",
    "    i += 1"
   ]
  },
  {
   "cell_type": "code",
   "execution_count": 26,
   "id": "e3562f36",
   "metadata": {},
   "outputs": [
    {
     "name": "stdout",
     "output_type": "stream",
     "text": [
      "+ + + + + \n",
      "+ + + + \n",
      "+ + + \n",
      "+ + \n",
      "+ \n"
     ]
    }
   ],
   "source": [
    "# The following program prints the pattern:\n",
    "# * * * * * \n",
    "# * * * * \n",
    "# * * * \n",
    "# * * \n",
    "# * \n",
    "\n",
    "# Modify it so it prints the pattern:\n",
    "# + + + + + \n",
    "# + + + + \n",
    "# + + +\n",
    "# + + \n",
    "# + \n",
    "\n",
    "row = 1\n",
    "while row <= 5:\n",
    "    i=row\n",
    "    while i <= 5:\n",
    "        print(\"+\", end=\" \")\n",
    "        i += 1\n",
    "    print(\"\")\n",
    "    row += 1"
   ]
  },
  {
   "cell_type": "code",
   "execution_count": 39,
   "id": "a7741435",
   "metadata": {},
   "outputs": [
    {
     "name": "stdout",
     "output_type": "stream",
     "text": [
      "* \n",
      "* * \n",
      "* * * \n",
      "* * * * \n",
      "* * * * * \n"
     ]
    }
   ],
   "source": [
    "# Modify the above program so that it prints:\n",
    "# *\n",
    "# * *\n",
    "# * * *\n",
    "# * * * *\n",
    "# * * * * *\n",
    "row = 1\n",
    "while row<=5:\n",
    "    col = 1\n",
    "    while col<=row:\n",
    "        print(\"*\", end=\" \")\n",
    "        col+=1\n",
    "    print(\"\")\n",
    "    row+= 1\n",
    "    "
   ]
  }
 ],
 "metadata": {
  "kernelspec": {
   "display_name": "Python 3",
   "language": "python",
   "name": "python3"
  },
  "language_info": {
   "codemirror_mode": {
    "name": "ipython",
    "version": 3
   },
   "file_extension": ".py",
   "mimetype": "text/x-python",
   "name": "python",
   "nbconvert_exporter": "python",
   "pygments_lexer": "ipython3",
   "version": "3.8.8"
  }
 },
 "nbformat": 4,
 "nbformat_minor": 5
}
