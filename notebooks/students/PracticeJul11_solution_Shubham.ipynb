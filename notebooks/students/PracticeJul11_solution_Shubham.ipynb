{
 "cells": [
  {
   "cell_type": "code",
   "execution_count": 4,
   "id": "6f0c033c",
   "metadata": {},
   "outputs": [
    {
     "name": "stdout",
     "output_type": "stream",
     "text": [
      "Cost price: 60\n",
      "Sell price: 50\n",
      "You made a loss of -10.0\n"
     ]
    }
   ],
   "source": [
    "# Fix the program\n",
    "# Problem: Read cost price and sell price from user and decide if profit or loss made on the sale\n",
    "\n",
    "cp = input(\"Cost price: \")\n",
    "sp = input(\"Sell price: \")\n",
    "\n",
    "profit_or_loss = float(sp) - float(cp)\n",
    "\n",
    "if profit_or_loss > 0:\n",
    "    print(\"You made a profit of \" + str(profit_or_loss))\n",
    "elif profit_or_loss == 0:\n",
    "    print(\"You were breakeven (no profit no loss)\")\n",
    "else:\n",
    "    print(\"You made a loss of \" + str(profit_or_loss))"
   ]
  },
  {
   "cell_type": "code",
   "execution_count": 6,
   "id": "b8b18768",
   "metadata": {},
   "outputs": [
    {
     "name": "stdout",
     "output_type": "stream",
     "text": [
      "Enter a whole number: 4\n",
      "The number is even\n"
     ]
    }
   ],
   "source": [
    "# Fix the program\n",
    "# Problem: Ask user to enter a whole number and determine if it is odd or even\n",
    "\n",
    "num = float(input(\"Enter a whole number: \"))\n",
    "\n",
    "if num % 2 == 0:\n",
    "    print(\"The number is even\")\n",
    "else:\n",
    "    print(\"The number is odd\")"
   ]
  },
  {
   "cell_type": "code",
   "execution_count": 3,
   "id": "e250ac22",
   "metadata": {},
   "outputs": [
    {
     "name": "stdout",
     "output_type": "stream",
     "text": [
      "Please enter math marks. 75\n",
      "Please enter physics marks. 75\n",
      "Please enter chemistry marks. 40\n",
      "You are eligible \n"
     ]
    }
   ],
   "source": [
    "# Problem: Admission to a professional course is subject to the following conditions:\n",
    "# At least 60 marks in Math\n",
    "# At least 50 marks in Physics\n",
    "# At least 40 marks in Chemistry\n",
    "# At least 200 total of the above three\n",
    "\n",
    "# OR\n",
    "\n",
    "# At least 150 total in Math and Physics\n",
    "\n",
    "# Ask user to enter the marks in Math, Physics and Chemistry and determine if user is eligible to admission\n",
    "math = float(input(\"Please enter math marks. \"))\n",
    "\n",
    "physics = float(input(\"Please enter physics marks. \"))\n",
    "\n",
    "chemistry = float(input(\"Please enter chemistry marks. \"))\n",
    "\n",
    "total = math + physics + chemistry\n",
    "\n",
    "if math >= 60 and physics >= 50 and chemistry >= 40 and total >= 200: # big first condition\n",
    "    print(\"You are eligible \")\n",
    "elif math + physics >= 150: # second condition for eligiblity.\n",
    "    print(\"You are eligible \")\n",
    "else:\n",
    "    print(\"Sorry, You are not eligible. \")\n",
    " \n",
    "    "
   ]
  },
  {
   "cell_type": "code",
   "execution_count": 8,
   "id": "0157bf19",
   "metadata": {},
   "outputs": [
    {
     "name": "stdout",
     "output_type": "stream",
     "text": [
      " Please Enter the consumption units 500\n",
      " The Charge for the consumption of 500.0  units  is  632.5\n"
     ]
    }
   ],
   "source": [
    "# Problem: An electricity board charges the following rates for use of electricity:\n",
    "# 80 paise (cents) per unit for the first 200 units\n",
    "# 90 paise (cents) per unit for the next 100 units\n",
    "# 100 paise (cents) per unit beyond 300 units\n",
    "# All users are charged a minimum 100 Rs ($ / €)\n",
    "# If the total consumption is more that 400 units, additional surcharge of 15% of total amount is charged\n",
    "# Write a program to read electricity consumption units from user and print out their total charge.\n",
    "\n",
    "units = float(input(\" Please Enter the consumption units \"))\n",
    "\n",
    "if units <= 200:\n",
    "    charge  = units * 0.8 + 100 # all users are charged a minimum of Rs 100.\n",
    "elif 200 < units <= 300:\n",
    "    charge = (units - 200)*0.9 + 260 # minimum charge + first 200 unit charge.\n",
    "elif units > 300:\n",
    "    if units  > 400: # if charge is more than 400\n",
    "        charge = (units - 300) * 1 + 350 # minimum charge + first 200 unit charge + second 100 unit charge + 3rd unit charge\n",
    "        charge+=charge*0.15 # additional 15% surcharge on the total amount charged\n",
    "    else:\n",
    "        charge = (units - 300)*1 + 350 # if charge unit is between 300 and 400.\n",
    "        # 1st unit charge + 2nd unit charge + 3rd unit charge + minimum charge \n",
    "print(\" The Charge for the consumption of\", units,\" units  is \",charge)\n",
    "    "
   ]
  },
  {
   "cell_type": "code",
   "execution_count": 11,
   "id": "be201c58",
   "metadata": {},
   "outputs": [
    {
     "name": "stdout",
     "output_type": "stream",
     "text": [
      "Enter the number of units 500\n",
      "Units consumed: 500.0, charge: 632.5\n"
     ]
    }
   ],
   "source": [
    "charge = 100 #initialize charge to the minimum\n",
    "\n",
    "units = float(input(\"Enter the number of units \"))\n",
    "\n",
    "if units <= 200:\n",
    "\n",
    "    charge += units * 0.8\n",
    "\n",
    "elif 200 < units <= 300:\n",
    "    \n",
    "    charge += 200 * 0.8 + (units - 200) * 0.9\n",
    "    \n",
    "elif units > 300:\n",
    "    charge += 200 * 0.8 + 100 * 0.9 + (units - 300) * 1.0\n",
    "\n",
    "if units > 400:\n",
    "    charge += charge * 0.15\n",
    "    \n",
    "print(\"Units consumed: \"+str(units)+ \", charge: \"+ str(charge))"
   ]
  },
  {
   "cell_type": "code",
   "execution_count": null,
   "id": "27dc3960",
   "metadata": {},
   "outputs": [],
   "source": []
  }
 ],
 "metadata": {
  "kernelspec": {
   "display_name": "Python 3",
   "language": "python",
   "name": "python3"
  },
  "language_info": {
   "codemirror_mode": {
    "name": "ipython",
    "version": 3
   },
   "file_extension": ".py",
   "mimetype": "text/x-python",
   "name": "python",
   "nbconvert_exporter": "python",
   "pygments_lexer": "ipython3",
   "version": "3.8.8"
  }
 },
 "nbformat": 4,
 "nbformat_minor": 5
}
