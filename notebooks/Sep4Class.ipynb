{
 "cells": [
  {
   "cell_type": "code",
   "execution_count": null,
   "id": "bc5babd8",
   "metadata": {},
   "outputs": [],
   "source": [
    "# \"Standard Library\" -- a set of functionalities available with python.\n",
    "# Standard library is organized as modules in python.\n",
    "# To use it, one needs to \"import\" these modules in program.\n",
    "\n",
    "# For example: math, secrets, datetime, sys .... 300+ such modules available\n",
    "help('modules')"
   ]
  },
  {
   "cell_type": "code",
   "execution_count": null,
   "id": "b26d9d00",
   "metadata": {},
   "outputs": [],
   "source": [
    "import math\n",
    "import sys\n",
    "\n",
    "#print(sys.version)\n",
    "#print(math.pi)\n",
    "\n",
    "print(math.sin(math.pi/4))\n"
   ]
  },
  {
   "cell_type": "code",
   "execution_count": null,
   "id": "92467029",
   "metadata": {},
   "outputs": [],
   "source": [
    "from math import pi, sin, cos\n",
    "\n",
    "print(sin(pi/4))"
   ]
  },
  {
   "cell_type": "code",
   "execution_count": null,
   "id": "de3de8fd",
   "metadata": {},
   "outputs": [],
   "source": [
    "import math as m\n",
    "\n",
    "print(m.pi)"
   ]
  },
  {
   "cell_type": "code",
   "execution_count": null,
   "id": "46566a86",
   "metadata": {},
   "outputs": [],
   "source": [
    "import statistics as stat\n",
    "\n",
    "print(stat.mean([1,2,3]))"
   ]
  },
  {
   "cell_type": "code",
   "execution_count": null,
   "id": "5655beae",
   "metadata": {},
   "outputs": [],
   "source": [
    "# How to discover functionality available in standard library?\n",
    "\n",
    "# Browse the standard python documentation\n",
    "# Pick up a book and go through it\n",
    "# Use web search \"How to do X in python\" / \"Module to work with Y\""
   ]
  },
  {
   "cell_type": "code",
   "execution_count": null,
   "id": "db692693",
   "metadata": {},
   "outputs": [],
   "source": [
    "# Random numbers \n",
    "# RNG - Random Number Generators\n",
    "# entropy of the system\n",
    "# Stochastic computing -- field of random numbers or randomness!\n",
    "\n",
    "import secrets\n",
    "import math\n",
    "\n",
    "genrandom = secrets.SystemRandom()\n",
    "\n",
    "for i in range(101):\n",
    "    print(genrandom.randint(1,10000))\n",
    "    "
   ]
  },
  {
   "cell_type": "code",
   "execution_count": null,
   "id": "629a8e8d",
   "metadata": {},
   "outputs": [],
   "source": [
    "import datetime as dt\n",
    "\n",
    "t = dt.time(1, 2, 3, 100)\n",
    "print(t)\n",
    "print(t.hour)\n",
    "print(t.minute)\n"
   ]
  },
  {
   "cell_type": "code",
   "execution_count": null,
   "id": "1add5c8a",
   "metadata": {},
   "outputs": [],
   "source": [
    "print(dt.time.min)\n",
    "print(dt.time.max)\n",
    "print(dt.time.resolution)"
   ]
  },
  {
   "cell_type": "code",
   "execution_count": null,
   "id": "cc57f25a",
   "metadata": {},
   "outputs": [],
   "source": [
    "print(dt.datetime.now())"
   ]
  },
  {
   "cell_type": "code",
   "execution_count": null,
   "id": "4e2f4b13",
   "metadata": {},
   "outputs": [],
   "source": [
    "today = dt.date.today()\n",
    "#print(today.ctime())\n",
    "tt = today.timetuple()\n",
    "print(tt.tm_mday)"
   ]
  },
  {
   "cell_type": "code",
   "execution_count": null,
   "id": "ad10c098",
   "metadata": {},
   "outputs": [],
   "source": [
    "td = dt.timedelta(hours=1, minutes=5)\n",
    "\n",
    "now = dt.datetime.now()\n",
    "print(now)\n",
    "print(now + td)\n",
    "print(now - td)"
   ]
  },
  {
   "cell_type": "code",
   "execution_count": null,
   "id": "5aaad99a",
   "metadata": {},
   "outputs": [],
   "source": [
    "td = dt.timedelta(days = 1)\n",
    "\n",
    "today = dt.date.today()\n",
    "print(today)\n",
    "print(today + td)\n",
    "print(today - td)"
   ]
  },
  {
   "cell_type": "code",
   "execution_count": null,
   "id": "ec9cf1cd",
   "metadata": {},
   "outputs": [],
   "source": [
    "td = dt.timedelta(weeks=4, days=2, hours=10, minutes=17, seconds=23, milliseconds=17)\n",
    "\n",
    "today = dt.date.today()\n",
    "now = dt.datetime.now()\n",
    "goal_date = today + td\n",
    "print(\"my goal date is \"+ str(goal_date))\n",
    "goal_time = now + td\n",
    "print(\"my goal time is \" + str(goal_time))"
   ]
  },
  {
   "cell_type": "code",
   "execution_count": null,
   "id": "3927b4ac",
   "metadata": {},
   "outputs": [],
   "source": [
    "given_date = dt.date(year=2021, month=12, day=31)\n",
    "today = dt.date.today()\n",
    "print(given_date)\n",
    "print(given_date - today)"
   ]
  },
  {
   "cell_type": "code",
   "execution_count": null,
   "id": "f213e999",
   "metadata": {},
   "outputs": [],
   "source": [
    "my_birthday = dt.date(2021, 12, 12)\n",
    "\n",
    "print(\"Countdown to my birthday ... \" + str(my_birthday - dt.date.today()))"
   ]
  },
  {
   "cell_type": "code",
   "execution_count": null,
   "id": "ca87a521",
   "metadata": {},
   "outputs": [],
   "source": [
    "t1 = dt.time(12, 55, 0)\n",
    "t2 = dt.time(14, 10, 21)\n",
    "\n",
    "print(t1 < t2)"
   ]
  },
  {
   "cell_type": "code",
   "execution_count": null,
   "id": "2025ce22",
   "metadata": {},
   "outputs": [],
   "source": [
    "deadline = dt.date(2021, 8, 15)\n",
    "\n",
    "if deadline > dt.date.today():\n",
    "    print(\"Deadline is still not passed\")\n",
    "else:\n",
    "    print(\"Sorry, deadline is over\")"
   ]
  },
  {
   "cell_type": "code",
   "execution_count": null,
   "id": "b1d8cb65",
   "metadata": {},
   "outputs": [],
   "source": []
  }
 ],
 "metadata": {
  "kernelspec": {
   "display_name": "Python 3",
   "language": "python",
   "name": "python3"
  },
  "language_info": {
   "codemirror_mode": {
    "name": "ipython",
    "version": 3
   },
   "file_extension": ".py",
   "mimetype": "text/x-python",
   "name": "python",
   "nbconvert_exporter": "python",
   "pygments_lexer": "ipython3",
   "version": "3.8.8"
  }
 },
 "nbformat": 4,
 "nbformat_minor": 5
}
