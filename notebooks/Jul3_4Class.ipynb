{
 "cells": [
  {
   "cell_type": "code",
   "execution_count": 6,
   "id": "3113c1f6",
   "metadata": {},
   "outputs": [
    {
     "name": "stdout",
     "output_type": "stream",
     "text": [
      "Please enter angle 1 : 90\n",
      "Please enter angle 2 : 30\n",
      "The third angle is : 60.0\n"
     ]
    }
   ],
   "source": [
    "# 1. Ask user to enter two angles of a triangle and \n",
    "#    calculate the third angle and print it. \n",
    "#    HINT: Sum of three angles of a triangle is 180.\n",
    "\n",
    "# 1)  Ask user to enter two angles of a triangle and calculate the third \n",
    "#angle and print it. HINT: Sum of three angles of a triangle is 180.\n",
    "angle1 = input(\"Please enter angle 1 : \")\n",
    "angle2 = input(\"Please enter angle 2 : \")\n",
    "\n",
    "angle3 = 180 - (float(angle1) + float(angle2))\n",
    "\n",
    "print(\"The third angle is : \" + str(angle3))"
   ]
  },
  {
   "cell_type": "code",
   "execution_count": 10,
   "id": "ef2acd67",
   "metadata": {},
   "outputs": [
    {
     "name": "stdout",
     "output_type": "stream",
     "text": [
      "Enter the value of celsius: -40\n",
      "-40 degrees celsius is -40.0 degrees Fahrenheit.\n"
     ]
    }
   ],
   "source": [
    "# 2. Ask user to enter temperature in Celsius and \n",
    "#    convert it into Fahrenheit.\n",
    "#    HINT: F = 9C/5 + 32\n",
    "\n",
    "celsius = input(\"Enter the value of celsius: \")\n",
    "\n",
    "fahrenheit = 9 * float(celsius) / 5 + 32\n",
    "\n",
    "print(celsius + \" degrees celsius is \" + str(fahrenheit) + \" degrees Fahrenheit.\")\n"
   ]
  },
  {
   "cell_type": "code",
   "execution_count": null,
   "id": "3e3d503c",
   "metadata": {},
   "outputs": [],
   "source": [
    "# 3. Ask user to enter radius of a sphere and \n",
    "#    calculate and print its volume. \n",
    "#    HINT: V = 4/3 * pi * (r ** 3)\n",
    "\n",
    "pi = 3.141592\n",
    "\n",
    "r = input(\"Enter radius of sphere: \")\n",
    "\n",
    "v = 4/3 * pi * (float(r) ** 3)\n",
    "\n",
    "print(\"Volume of sphere with radius \" + r +\" is \" + str(v))"
   ]
  },
  {
   "cell_type": "code",
   "execution_count": 15,
   "id": "4a77e9f7",
   "metadata": {},
   "outputs": [
    {
     "name": "stdout",
     "output_type": "stream",
     "text": [
      "Please enter the cost price of item: 500\n",
      "Please enter the selling price of item: 100\n",
      "For this sale, the profit / loss is -400.0\n"
     ]
    }
   ],
   "source": [
    "# 4. Ask a user to enter cost price and \n",
    "#    selling price of an item and print \n",
    "#    the profit / loss made on the sale. \n",
    "#    HINT: profitorloss = sp - cp\n",
    "\n",
    "cp = input(\"Please enter the cost price of item: \")\n",
    "sp = input(\"Please enter the selling price of item: \")\n",
    "\n",
    "profitorloss = float(sp) - float(cp)\n",
    "\n",
    "print(\"For this sale, the profit / loss is \" + str(profitorloss))\n"
   ]
  },
  {
   "cell_type": "code",
   "execution_count": 20,
   "id": "525f429b",
   "metadata": {},
   "outputs": [
    {
     "name": "stdout",
     "output_type": "stream",
     "text": [
      "False\n",
      "True\n"
     ]
    }
   ],
   "source": [
    "# Six Comparison operators\n",
    "\n",
    "# < less than\n",
    "# > greater than\n",
    "# <= less than or equal to\n",
    "# >= greater than or equal to\n",
    "\n",
    "# == equal to <--- NOTE double \"==\" sign and not single\n",
    "# != not equal to\n",
    "\n",
    "# Comparison expression\n",
    "\n",
    "print(5 < 3) # asking a question -- \"is 5 less than 3\"\n",
    "\n",
    "print(200 > 35) # asking if 200 is greater than 35"
   ]
  },
  {
   "cell_type": "code",
   "execution_count": 13,
   "id": "288cd31b",
   "metadata": {},
   "outputs": [
    {
     "name": "stdout",
     "output_type": "stream",
     "text": [
      "True\n",
      "True\n",
      "True\n"
     ]
    }
   ],
   "source": [
    "# Operators to combine more than one comparisons\n",
    "\n",
    "# and, or & not\n",
    "\n",
    "# Rules for and (also called truth table)\n",
    "\n",
    "# True and True --> True\n",
    "# False and True --> False\n",
    "# True and False --> False\n",
    "# False and False --> False\n",
    "\n",
    "# Rules for or (also called truth table)\n",
    "\n",
    "# True or True --> True\n",
    "# False or True --> True\n",
    "# True or False --> True\n",
    "# False or False --> False\n",
    "\n",
    "# Rules for not (also called truth table)\n",
    "\n",
    "# not True --> False\n",
    "# not False --> True\n",
    "\n",
    "#print(67 < 37 and 89 < 76) # output should be False\n",
    "#print(False and False)\n",
    "\n",
    "#print(67 > 37 and 89 > 76) # True\n",
    "#print(True and True) # True\n",
    "\n",
    "# six comparison operators (< > <= >= == !=) and three logical operators (and, or, not)!\n",
    "\n",
    "#print(2**3 > 3**2 or 89 > 98) #False\n",
    "\n",
    "# precedence of operations\n",
    "\n",
    "# so many operators: ** % + - / > < == and or not ...\n",
    "\n",
    "# First evaluate arithmetic operations: ** + - * etc.\n",
    "# Next evaluate comparison operators: > < == != etc.\n",
    "# Finally evaluate logical operations: not and or\n",
    "\n",
    "#print((4 / 2) ** 3 - 5)\n",
    "#print((18 / 6) ** 2 + 2)\n",
    "#print((4 / 2) ** 3 - 5 > (18 / 6) ** 2 + 2)\n",
    "\n",
    "\n",
    "print(not 7 > 8) # same as not False which is True\n",
    "\n",
    "# Comparison operators can be chained\n",
    "# Syntactic sugar\n",
    "\n",
    "age = 56\n",
    "\n",
    "print(age > 0 and age < 100) # verifies if age is between 0 and 100\n",
    "print(0 < age < 100) # same as above but in short form (syntactic sugar)\n",
    "\n",
    "# Syntax ?? --> Grammar of the language\n",
    "# Semantics ?? --> Meaning of that grammar\n",
    "\n"
   ]
  },
  {
   "cell_type": "code",
   "execution_count": 17,
   "id": "b08594bf",
   "metadata": {},
   "outputs": [
    {
     "name": "stdout",
     "output_type": "stream",
     "text": [
      "False\n",
      "True\n"
     ]
    }
   ],
   "source": [
    "capacity = 200\n",
    "current_occupancy = 20\n",
    "max_temp = 50\n",
    "cur_temp = 29\n",
    "\n",
    "print(current_occupancy > capacity or cur_temp > max_temp)\n",
    "\n",
    "current_occupancy = 133\n",
    "cur_temp = 51\n",
    "\n",
    "print(current_occupancy > capacity or cur_temp > max_temp)"
   ]
  },
  {
   "cell_type": "code",
   "execution_count": 20,
   "id": "06b1a343",
   "metadata": {},
   "outputs": [
    {
     "name": "stdout",
     "output_type": "stream",
     "text": [
      "<class 'bool'>\n",
      "<class 'int'>\n",
      "<class 'int'>\n",
      "<class 'bool'>\n"
     ]
    }
   ],
   "source": [
    "# Boolean variables (datatype bool)\n",
    "# Has only two values: True , False\n",
    "# George Bool!\n",
    "\n",
    "some_condition = False\n",
    "\n",
    "allowed = 89\n",
    "current = 76\n",
    "\n",
    "print(type(some_condition))\n",
    "\n",
    "print(type(allowed)) #?\n",
    "print(type(current)) #?\n",
    "\n",
    "print(type(allowed >= current)) #?"
   ]
  },
  {
   "cell_type": "code",
   "execution_count": 22,
   "id": "3e64b46b",
   "metadata": {},
   "outputs": [
    {
     "name": "stdout",
     "output_type": "stream",
     "text": [
      "True\n",
      "False\n"
     ]
    }
   ],
   "source": [
    "# conversion into boolean\n",
    "# conversion to int(), float(), str()\n",
    "# one more: bool() <-- to convert to boolean (if needed)\n",
    "\n",
    "print(bool(1))\n",
    "print(bool(0))\n",
    "\n",
    "# In python 0 is False and everything else is True!\n",
    "# non zero values are True!"
   ]
  },
  {
   "cell_type": "code",
   "execution_count": 27,
   "id": "44a4568e",
   "metadata": {},
   "outputs": [
    {
     "name": "stdout",
     "output_type": "stream",
     "text": [
      "Enter the radius of sphere: 9\n",
      "Volume of sphere with radius 9 is 3053.6254799999997\n"
     ]
    }
   ],
   "source": [
    "# if condition! to make decisions!!\n",
    "\n",
    "radius = input (\"Enter the radius of sphere: \")\n",
    "pi = 3.14159\n",
    "\n",
    "# if condition must have the expression whose outcome is of type bool\n",
    "\n",
    "if float(radius) <= 0:  # Make a decision to calculate based on value of radius\n",
    "    print(\"Invalid value of radius\") # indentation\n",
    "else: # otherwise run the following code block!\n",
    "    v = 4 / 3 * pi * (float(radius) ** 3)\n",
    "    print(\"Volume of sphere with radius \" + radius + \" is \" + str(v))"
   ]
  },
  {
   "cell_type": "code",
   "execution_count": 29,
   "id": "3315f2f1",
   "metadata": {},
   "outputs": [
    {
     "name": "stdout",
     "output_type": "stream",
     "text": [
      "a is greater than b\n"
     ]
    }
   ],
   "source": [
    "a = 300\n",
    "b = 200\n",
    "\n",
    "if a < b: #condition becomes false\n",
    "    print(\"a is less than b\")\n",
    "else:\n",
    "    print(\"a is greater than b\")"
   ]
  },
  {
   "cell_type": "code",
   "execution_count": null,
   "id": "ba64b4c5",
   "metadata": {},
   "outputs": [],
   "source": []
  }
 ],
 "metadata": {
  "kernelspec": {
   "display_name": "Python 3",
   "language": "python",
   "name": "python3"
  },
  "language_info": {
   "codemirror_mode": {
    "name": "ipython",
    "version": 3
   },
   "file_extension": ".py",
   "mimetype": "text/x-python",
   "name": "python",
   "nbconvert_exporter": "python",
   "pygments_lexer": "ipython3",
   "version": "3.8.8"
  }
 },
 "nbformat": 4,
 "nbformat_minor": 5
}
