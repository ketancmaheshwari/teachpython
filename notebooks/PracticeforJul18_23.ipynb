{
 "cells": [
  {
   "cell_type": "code",
   "execution_count": null,
   "id": "6ce2216f",
   "metadata": {},
   "outputs": [],
   "source": [
    "# Prob: Print numbers, their square and cube from 1 to 40\n",
    "# Finish the missing parts from the following code\n",
    "# Format the output appropriately\n",
    "\n",
    "\n",
    "while num  40:\n",
    "    print(\"{} {} {}\".format(num, num ** 2, num ** 3))\n",
    "    num += 1"
   ]
  },
  {
   "cell_type": "code",
   "execution_count": null,
   "id": "02994143",
   "metadata": {},
   "outputs": [],
   "source": [
    "# Prob: Write a program to print the following pattern up to 20 terms\n",
    "# 1 5 9 13 17 ..."
   ]
  },
  {
   "cell_type": "code",
   "execution_count": null,
   "id": "c321e23d",
   "metadata": {},
   "outputs": [],
   "source": [
    "# Write a program to print the following pattern up to 10 terms\n",
    "# -1 -7 -13 -19 ..."
   ]
  },
  {
   "cell_type": "code",
   "execution_count": null,
   "id": "746ae5ab",
   "metadata": {},
   "outputs": [],
   "source": [
    "# Fix the following program that prints the following pattern up to 12:\n",
    "# 1**1 2**2 3**3 .. (1 to the power 1, 2 square, 3 cube ...)\n",
    "\n",
    "i = 1\n",
    "while i <= 12:\n",
    "    print({}.format())\n",
    "    i += 1"
   ]
  },
  {
   "cell_type": "code",
   "execution_count": null,
   "id": "e3562f36",
   "metadata": {},
   "outputs": [],
   "source": [
    "# The following program prints the pattern:\n",
    "# * * * * * \n",
    "# * * * * \n",
    "# * * * \n",
    "# * * \n",
    "# * \n",
    "\n",
    "# Modify it so it prints the pattern:\n",
    "# + + + + + \n",
    "# + + + + \n",
    "# + + +\n",
    "# + + \n",
    "# + \n",
    "\n",
    "row = 1\n",
    "while row <= 5:\n",
    "    i=row\n",
    "    while i <= 5:\n",
    "        print(\"*\", end=\" \")\n",
    "        i += 1\n",
    "    print(\"\")\n",
    "    row += 1"
   ]
  },
  {
   "cell_type": "code",
   "execution_count": null,
   "id": "a7741435",
   "metadata": {},
   "outputs": [],
   "source": [
    "# Modify the above program so that it prints:\n",
    "# *\n",
    "# * *\n",
    "# * * *\n",
    "# * * * *\n",
    "# * * * * *"
   ]
  }
 ],
 "metadata": {
  "kernelspec": {
   "display_name": "Python 3",
   "language": "python",
   "name": "python3"
  },
  "language_info": {
   "codemirror_mode": {
    "name": "ipython",
    "version": 3
   },
   "file_extension": ".py",
   "mimetype": "text/x-python",
   "name": "python",
   "nbconvert_exporter": "python",
   "pygments_lexer": "ipython3",
   "version": "3.8.8"
  }
 },
 "nbformat": 4,
 "nbformat_minor": 5
}
