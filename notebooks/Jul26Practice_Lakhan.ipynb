{
 "cells": [
  {
   "cell_type": "code",
   "execution_count": null,
   "id": "011871f0",
   "metadata": {},
   "outputs": [],
   "source": [
    "# Modify the number guessing game to count the trials that a user takes to guess the number\n",
    "num = 100\n",
    "count = 1\n",
    "\n",
    "while True  :\n",
    "    guessed_num = int(input(\"enter the number you want to guess: \"))\n",
    "    count+= 1\n",
    "    if guessed_num > num:\n",
    "        print(\"try lower!\")\n",
    "    elif guessed_num < num:\n",
    "        print(\"try higher!\")\n",
    "    elif guessed_num == num:\n",
    "        print(\"you win, game over!\")\n",
    "        break\n",
    "print(count-1)"
   ]
  },
  {
   "cell_type": "code",
   "execution_count": null,
   "id": "efc8d3ec",
   "metadata": {},
   "outputs": [],
   "source": [
    "# Modify the square root program to calculate cube root\n",
    "num = float(input(\"Enter the number you want to find cube root of: \"))\n",
    "\n",
    "lower = 1.0\n",
    "upper = num\n",
    "\n",
    "allowed_diff = 0.0001\n",
    "difference = upper - lower\n",
    "\n",
    "while difference > allowed_diff:\n",
    "    \n",
    "    middle = (lower + upper) / 2.0\n",
    "    \n",
    "    if middle ** 3 < num:\n",
    "        lower = middle\n",
    "    else:\n",
    "        upper = middle\n",
    "    \n",
    "    difference = upper - lower\n",
    "\n",
    "    \n",
    "print(upper)\n"
   ]
  },
  {
   "cell_type": "code",
   "execution_count": 16,
   "id": "7ffab7da",
   "metadata": {},
   "outputs": [
    {
     "name": "stdout",
     "output_type": "stream",
     "text": [
      "0.5\n",
      "0.70709228515625\n"
     ]
    }
   ],
   "source": [
    "# Modify the square root program so that it works with decimal numbers between 0 and 1\n",
    "num = float(input())\n",
    "lower = num\n",
    "upper = 1.0\n",
    "\n",
    "allowed_diff = 0.0001\n",
    "difference = upper - lower\n",
    "\n",
    "while difference > allowed_diff:\n",
    "    \n",
    "    middle = (lower + upper) / 2.0\n",
    "    \n",
    "    if middle ** 2 < num:\n",
    "        lower = middle\n",
    "    else:\n",
    "        upper = middle\n",
    "    \n",
    "    difference = upper - lower\n",
    "\n",
    "    \n",
    "print(lower)"
   ]
  },
  {
   "cell_type": "code",
   "execution_count": null,
   "id": "4f8312f6",
   "metadata": {},
   "outputs": [],
   "source": [
    "# Write a program to print numbers from 100 to 1 in reverse (100, 99, 98 ...)\n",
    "# If a number is divisible by 7, print \"baz\" instead of number\n",
    "# If a number is divisible by 13, print \"caz\" instead of number\n",
    "# If a number is divisible by both 7 and 13, print \"bazcaz\" instead of number\n",
    "i = 100\n",
    "\n",
    "while i>=1:\n",
    "    if i % 7 == 0 and i % 13 == 0:\n",
    "        print(\"bazcaz\", end=\" \")\n",
    "    elif i % 7 == 0:\n",
    "        print(\"baz\", end=\" \")\n",
    "    elif i % 13 == 0:\n",
    "        print(\"caz\", end=\" \")\n",
    "    else:\n",
    "        print(i,end=\" \")\n",
    "   \n",
    "    i-=1\n"
   ]
  },
  {
   "cell_type": "code",
   "execution_count": 8,
   "id": "484787d9",
   "metadata": {},
   "outputs": [
    {
     "name": "stdout",
     "output_type": "stream",
     "text": [
      "2\n"
     ]
    }
   ],
   "source": [
    "# Following is the recipe to find Greatest Common Divisor (GCD, also called HCF) of two numbers. \n",
    "# Convert it to python code\n",
    "\n",
    "# step 1. Let the two numbers be A and B (eg. A = 1220 and B = 516)\n",
    "# step 2. If A is 0 the answer is B\n",
    "# step 3. if B is 0 the answer is A\n",
    "# step 4. Otherwise, find the reminder R when A is devided by B (using modulus operator)\n",
    "# step 5. Overwrite A with B and B with R\n",
    "# step 6. Repeat steps 4 and 5 as long as A mod B is greater than 0\n",
    "# step 7. The current value of B is the answer.\n",
    "\n",
    "A = 16  \n",
    "\n",
    "B = 6\n",
    "\n",
    "if A == 0:\n",
    "    print('B')\n",
    "elif B == 0:\n",
    "    print('A')\n",
    "else :\n",
    "    while A % B > 0:\n",
    "        R = A % B\n",
    "        A = B\n",
    "        B = R\n",
    "    print(B)"
   ]
  },
  {
   "cell_type": "code",
   "execution_count": 3,
   "id": "4fec72ce",
   "metadata": {},
   "outputs": [
    {
     "name": "stdout",
     "output_type": "stream",
     "text": [
      "['Mercury', 'Venus', 'Earth', 'Mars', 'jupiter', 'Saturn', 'Uranus'] \n",
      " ['January', 'February', 'March', 'April', 'May', 'June', 'July', 'August', 'September', 'October', 'November', 'December'] \n",
      " ['Monday', 'Tuesday', 'Wednesday', 'Thursday', 'Friday', 'Saturday', 'Sunday']\n",
      "12\n",
      "December\n",
      "Pluto is not included\n",
      "['Earth', 'Mars', 'Mercury', 'Saturn', 'Saturn', 'Sun', 'Uranus', 'Uranus', 'Venus', 'jupiter']\n",
      "Wednesday\n",
      "September\n",
      "May\n"
     ]
    }
   ],
   "source": [
    "# Create 3 lists as follows\n",
    "# List of first five planets called planets\n",
    "# List of all months called months\n",
    "# List of days of week called days\n",
    "Planets = ['Mercury','Venus','Earth','Mars','Jupiter','Saturn','Uranus']\n",
    "Months = ['January','February', 'March', 'April', 'May', 'June', 'July', 'August', 'September','October', 'November', 'December']\n",
    "Days = ['Monday','Tuesday','Wednesday','Thursday','Friday','Saturday','Sunday']\n",
    "\n",
    "# Print all items of each list\n",
    "print(Planets,\"\\n\", Months,\"\\n\", Days)\n",
    "# Add sixth and seventh planet to the planets list\n",
    "Planets.append('Saturn')\n",
    "Planets.append('Uranus')\n",
    "# Remove Saturday and Sunday from days list\n",
    "Days.remove('Saturday')\n",
    "Days.remove('Sunday')\n",
    "# Print the length of months list using the len function\n",
    "print(len(Months))\n",
    "# Print the name of last month using the list index notation\n",
    "print(Months[-1])\n",
    "# Insert \"Sun\" in the first position of the planets list\n",
    "Planets.insert(0,'Sun')\n",
    "# Check if \"Pluto\" is included in the planets list using the \"in\" operator\n",
    "if 'Pluto' in Planets:\n",
    "    print('Pluto is included')\n",
    "else:\n",
    "    print('Pluto is not included')\n",
    "# Reverse the months list\n",
    "Months.reverse()\n",
    "# Print the planets list sorted\n",
    "Planets.sort()\n",
    "print(Planets)\n",
    "# Print the 3rd item in the days list\n",
    "print(Days[2])\n",
    "# Print the 4th item in the reversed months list\n",
    "print(Months[3])\n",
    "# What will be printed if you print planets[-5]? Verify your prediction.\n",
    "# my prediction:- May\n",
    "print(Months[-5])"
   ]
  },
  {
   "cell_type": "code",
   "execution_count": null,
   "id": "f92d4611",
   "metadata": {},
   "outputs": [],
   "source": []
  }
 ],
 "metadata": {
  "kernelspec": {
   "display_name": "Python 3",
   "language": "python",
   "name": "python3"
  },
  "language_info": {
   "codemirror_mode": {
    "name": "ipython",
    "version": 3
   },
   "file_extension": ".py",
   "mimetype": "text/x-python",
   "name": "python",
   "nbconvert_exporter": "python",
   "pygments_lexer": "ipython3",
   "version": "3.8.8"
  }
 },
 "nbformat": 4,
 "nbformat_minor": 5
}
