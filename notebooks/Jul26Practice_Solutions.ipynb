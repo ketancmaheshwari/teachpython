{
 "cells": [
  {
   "cell_type": "code",
   "execution_count": 66,
   "id": "011871f0",
   "metadata": {},
   "outputs": [
    {
     "name": "stdout",
     "output_type": "stream",
     "text": [
      "Enter a Whole Number 23\n",
      "Try Higher\n",
      "Enter a Whole Number 33\n",
      "Try Higher\n",
      "Enter a Whole Number 43\n",
      "Try Higher\n",
      "Enter a Whole Number 53\n",
      "Try Lower\n",
      "Enter a Whole Number 48\n",
      "Try Lower\n",
      "Enter a Whole Number 43\n",
      "Try Higher\n",
      "Enter a Whole Number 44\n",
      "You won! Game over\n",
      "You guessed it in 7 Times.\n"
     ]
    }
   ],
   "source": [
    "# Modify the number guessing game to count the trials that a user takes to guess the number\n",
    "number = 44\n",
    "count = 0\n",
    "while True:\n",
    "    count+=1\n",
    "    num = int(input('Enter a Whole Number '))\n",
    "    if num < number:\n",
    "        print('Try Higher')\n",
    "    elif num > number:\n",
    "        print('Try Lower')\n",
    "    elif num == number:\n",
    "        print('You won! Game over')\n",
    "        break\n",
    "print(\"You guessed it in \"+str(count)+\" Times.\")\n",
    "    \n",
    "        "
   ]
  },
  {
   "cell_type": "code",
   "execution_count": 52,
   "id": "efc8d3ec",
   "metadata": {},
   "outputs": [
    {
     "name": "stdout",
     "output_type": "stream",
     "text": [
      "Enter the number you want to find square root of: 3\n",
      "1.732\n"
     ]
    }
   ],
   "source": [
    "# Modify the square root program to calculate cube root\n",
    "num = float(input(\"Enter the number you want to find cube root of: \"))\n",
    "\n",
    "lower = 1.0\n",
    "upper = num\n",
    "\n",
    "allowed_diff = 0.000001\n",
    "difference = upper - lower\n",
    "\n",
    "while difference > allowed_diff:\n",
    "    \n",
    "    middle = (lower + upper) / 2.0\n",
    "    \n",
    "    if middle ** 3 < num: # changed the middle ** 2 to middle ** 3 for cube root\n",
    "        lower = middle\n",
    "    else:\n",
    "        upper = middle\n",
    "    \n",
    "    difference = upper - lower    \n",
    "print(round(lower,3))\n"
   ]
  },
  {
   "cell_type": "code",
   "execution_count": 67,
   "id": "7ffab7da",
   "metadata": {},
   "outputs": [
    {
     "name": "stdout",
     "output_type": "stream",
     "text": [
      "Enter the number you want to find square root of: 0.5\n",
      "0.707\n"
     ]
    }
   ],
   "source": [
    "# Modify the square root program so that it works with decimal numbers between 0 and 1\n",
    "num = float(input(\"Enter the number you want to find square root of: \"))\n",
    "\n",
    "lower = num # changed the lower limit for decimal values between 0 and 1\n",
    "upper = 1.0 # changed the upper limit for decimal values between 0 and 1\n",
    "\n",
    "allowed_diff = 0.000001\n",
    "difference = upper - lower\n",
    "\n",
    "while difference > allowed_diff:\n",
    "    \n",
    "    middle = (lower + upper) / 2.0\n",
    "    \n",
    "    if middle ** 2 < num:\n",
    "        lower = middle\n",
    "    else:\n",
    "        upper = middle\n",
    "    \n",
    "    difference = upper - lower    \n",
    "print(round(lower,3))\n",
    "\n"
   ]
  },
  {
   "cell_type": "code",
   "execution_count": 68,
   "id": "4f8312f6",
   "metadata": {},
   "outputs": [
    {
     "name": "stdout",
     "output_type": "stream",
     "text": [
      "100 99 baz 97 96 95 94 93 92 bazcaz 90 89 88 87 86 85 baz 83 82 81 80 79 caz baz 76 75 74 73 72 71 baz 69 68 67 66 caz 64 baz 62 61 60 59 58 57 baz 55 54 53 caz 51 50 baz 48 47 46 45 44 43 baz 41 40 caz 38 37 36 baz 34 33 32 31 30 29 baz 27 caz 25 24 23 22 baz 20 19 18 17 16 15 baz caz 12 11 10 9 8 baz 6 5 4 3 2 1 "
     ]
    }
   ],
   "source": [
    "# Write a program to print numbers from 100 to 1 in reverse (100, 99, 98 ...)\n",
    "# If a number is divisible by 7, print \"baz\" instead of number\n",
    "# If a number is divisible by 13, print \"caz\" instead of number\n",
    "# If a number is divisible by both 7 and 13, print \"bazcaz\" instead of number\n",
    "num = 100\n",
    "while num>=1:\n",
    "    if num % 7 == 0 and num % 13 == 0:\n",
    "        print('bazcaz',end=' ')\n",
    "    elif num % 7 == 0:\n",
    "        print('baz',end=' ')\n",
    "    elif num % 13 == 0:\n",
    "        print('caz',end=' ')\n",
    "    else:\n",
    "        print(num,end=' ')\n",
    "    num-=1"
   ]
  },
  {
   "cell_type": "code",
   "execution_count": 70,
   "id": "484787d9",
   "metadata": {},
   "outputs": [
    {
     "name": "stdout",
     "output_type": "stream",
     "text": [
      "4\n"
     ]
    }
   ],
   "source": [
    "# Following is the recipe to find Greatest Common Divisor (GCD, also called HCF) of two numbers. \n",
    "# Convert it to python code\n",
    "\n",
    "# step 1. Let the two numbers be A and B (eg. A = 1220 and B = 516)\n",
    "# step 2. If A is 0 the answer is B\n",
    "# step 3. if B is 0 the answer is A\n",
    "# step 4. Otherwise, find the reminder R when A is devided by B (using modulus operator)\n",
    "# step 5. Overwrite A with B and B with R\n",
    "# step 6. Repeat steps 4 and 5 as long as A mod B is greater than 0\n",
    "# step 7. The current value of B is the answer.\n",
    "\n",
    "a = 1220\n",
    "b = 516\n",
    "\n",
    "if a == 0:\n",
    "    print(b)\n",
    "\n",
    "elif b == 0:\n",
    "    print(a)\n",
    "\n",
    "else:\n",
    "    while a%b > 0:\n",
    "        r = a%b\n",
    "        a = b\n",
    "        b = r\n",
    "    print(b)"
   ]
  },
  {
   "cell_type": "code",
   "execution_count": 71,
   "id": "4fec72ce",
   "metadata": {},
   "outputs": [
    {
     "name": "stdout",
     "output_type": "stream",
     "text": [
      "['Mercury', 'Venus', 'Earth', 'Mars', 'Jupiter']\n",
      "['January', 'February', 'March', 'April', 'May', 'June', 'July', 'August', 'September', 'October', 'November', 'December']\n",
      "['Monday', 'Tuesday', 'Wednesday', 'Thursday', 'Friday', 'Saturday', 'Sunday']\n",
      "['Mercury', 'Venus', 'Earth', 'Mars', 'Jupiter', 'Saturn', 'Uranus']\n",
      "['Monday', 'Tuesday', 'Wednesday', 'Thursday', 'Friday']\n",
      "12\n",
      "December\n",
      "['Sun', 'Mercury', 'Venus', 'Earth', 'Mars', 'Jupiter', 'Saturn', 'Uranus']\n",
      "No. It's absent.\n",
      "['December', 'November', 'October', 'September', 'August', 'July', 'June', 'May', 'April', 'March', 'February', 'January']\n",
      "['Earth', 'Jupiter', 'Mars', 'Mercury', 'Saturn', 'Sun', 'Uranus', 'Venus']\n",
      "Wednesday\n",
      "September\n",
      "Earth\n"
     ]
    }
   ],
   "source": [
    "# Create 3 lists as follows\n",
    "# List of first five planets called planets\n",
    "planets = ['Mercury','Venus','Earth','Mars','Jupiter']\n",
    "# List of all months called months\n",
    "months = ['January','February','March','April','May','June','July','August','September','October','November','December']\n",
    "# List of days of week called days\n",
    "days = ['Monday','Tuesday','Wednesday','Thursday','Friday','Saturday','Sunday']\n",
    "\n",
    "# Print all items of each list\n",
    "print(planets)\n",
    "print(months)\n",
    "print(days)\n",
    "\n",
    "# Add sixth and seventh planet to the planets list\n",
    "new_planets_add = ['Saturn','Uranus']\n",
    "planets +=new_planets_add\n",
    "print(planets)\n",
    "# Remove Saturday and Sunday from days list\n",
    "remove_days_list = ['Saturday','Sunday']\n",
    "for i in range(0,len(remove_days_list)):\n",
    "    days.remove(remove_days_list[i])\n",
    "print(days)\n",
    "# Print the length of months list using the len function\n",
    "print(len(months))\n",
    "# Print the name of last month using the list index notation\n",
    "print(months[-1])\n",
    "# Insert \"Sun\" in the first position of the planets list\n",
    "planets.insert(0,'Sun')\n",
    "print(planets)\n",
    "\n",
    "# Check if \"Pluto\" is included in the planets list using the \"in\" operator\n",
    "if 'Pluto' in planets:\n",
    "    print(\"Yes. It is present.\")\n",
    "else:\n",
    "    print(\"No. It's absent.\")\n",
    "\n",
    "# Reverse the months list\n",
    "months.reverse()\n",
    "print(months)\n",
    "\n",
    "# Print the planets list sorted\n",
    "print(sorted(planets))\n",
    "\n",
    "# Print the 3rd item in the days list\n",
    "print(days[2])\n",
    "\n",
    "# Print the 4th item in the reversed months list\n",
    "print(months[3])\n",
    "\n",
    "# What will be printed if you print planets[-5]? Verify your prediction.\n",
    "prediction = 'It will print planet \\'Earth\\''\n",
    "print(planets[-5])"
   ]
  }
 ],
 "metadata": {
  "kernelspec": {
   "display_name": "Python 3",
   "language": "python",
   "name": "python3"
  },
  "language_info": {
   "codemirror_mode": {
    "name": "ipython",
    "version": 3
   },
   "file_extension": ".py",
   "mimetype": "text/x-python",
   "name": "python",
   "nbconvert_exporter": "python",
   "pygments_lexer": "ipython3",
   "version": "3.8.8"
  }
 },
 "nbformat": 4,
 "nbformat_minor": 5
}
