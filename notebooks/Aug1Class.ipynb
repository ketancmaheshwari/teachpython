{
 "cells": [
  {
   "cell_type": "code",
   "execution_count": null,
   "id": "84415ae7",
   "metadata": {},
   "outputs": [],
   "source": [
    "# The range() function\n",
    "# Gives us a range of integers to iterate over\n",
    "# Useful in for loops\n",
    "\n",
    "#for i in range(10): # 10 will not be included\n",
    "#    print(i, end=\" \")\n",
    "\n",
    "#for i in range(1,11):\n",
    "#    print(i, end=\" \")\n",
    "\n",
    "#           start end  step\n",
    "#for i in range(1, 100, 3):\n",
    "#    print(i, end=\" \")\n",
    "\n",
    "# negative step will print in reverse\n",
    "# for i in range(100, 10, -4):\n",
    "#    print(i, end=\" \")"
   ]
  },
  {
   "cell_type": "code",
   "execution_count": null,
   "id": "9a9b4766",
   "metadata": {},
   "outputs": [],
   "source": [
    "# A limitation of for loops over lists\n",
    "\n",
    "# Problem: find sum of elements of two lists and put them in a third list\n",
    "first_list = [10, 20, 30, 40, 50]\n",
    "second_list = [13, 17, 4, 9, 22]\n",
    "total_list = []\n",
    "\n",
    "#for item in first_list: # only iterate over one list at a time!\n",
    "#    print(item)\n",
    "\n",
    "# len() --> gives the length of the list\n",
    "# range() --> iterate over a given range\n",
    "# [index] --> access an item in a list using index\n",
    "\n",
    "for i in range(len(first_list)):\n",
    "    total_list.append(first_list[i] + second_list[i])\n",
    "\n",
    "print(total_list)"
   ]
  },
  {
   "cell_type": "code",
   "execution_count": null,
   "id": "bffd84d0",
   "metadata": {},
   "outputs": [],
   "source": [
    "# list is a type in python\n",
    "# so, other types / objects may be converted to lists!\n",
    "\n",
    "# The list() function like int(), float() or str()\n",
    "\n",
    "# String to list\n",
    "\n",
    "name = \"Everest\"\n",
    "\n",
    "# print(list(name)) # explicit conversion from string to list\n",
    "\n",
    "#for i in name: # implicit conversion from string to list\n",
    "#    print(i)\n",
    "    \n",
    "some_list = [1, 2, 3, 4, 5, 6, 7, 8, 9, 10, 11, 12, 13, 14, 15, 16, 17, 18, 19, 20]\n",
    "\n",
    "other_list = list(range(1, 21)) # magic: convert a range to a list!\n",
    "\n",
    "print(some_list)\n",
    "print(other_list)"
   ]
  },
  {
   "cell_type": "code",
   "execution_count": null,
   "id": "67145e49",
   "metadata": {},
   "outputs": [],
   "source": [
    "# Problem : find if a number is prime or not\n",
    "\n",
    "# 8 is not a prime number because it can be evenly divided by 2\n",
    "# 9 is not a prime number because it can be evenly divided by 3\n",
    "# but, 11 is a prime number because it can only be divided by 1 or 11 and\n",
    "# no other number in between\n",
    "\n",
    "num = int(input(\"Enter a whole number: \"))\n",
    "\n",
    "flag = True\n",
    "\n",
    "# check from 2 to (num - 1) if it is divisible\n",
    "for i in range(2,num):\n",
    "    if num % i == 0:\n",
    "        flag = False\n",
    "        #print(\"{} is divisible by {}\".format(num, i))\n",
    "        break # improvise the program / optimized!\n",
    "\n",
    "# outside of if condition and for loop\n",
    "# check if flag is still True\n",
    "if flag == True:\n",
    "    print(\"The number is a prime!\")\n",
    "else:\n",
    "    print(\"The number is not a prime!\")"
   ]
  },
  {
   "cell_type": "code",
   "execution_count": null,
   "id": "cf00a966",
   "metadata": {},
   "outputs": [],
   "source": [
    "# From 2 to 1000, print all the prime numbers\n",
    "\n",
    "print(2, end=\" \")\n",
    "for num in range(3,1001,2): # test only odd numbers, because even numbers are not primes\n",
    "    \n",
    "    # check for prime\n",
    "    flag = True\n",
    "    # check from 2 to (num - 1) if it is divisible\n",
    "    for i in range(2,num):\n",
    "        if num % i == 0:\n",
    "            flag = False\n",
    "            #print(\"{} is divisible by {}\".format(num, i))\n",
    "            break # improvise the program / optimized!\n",
    "\n",
    "    # outside of if condition and for loop\n",
    "    # check if flag is still True\n",
    "    if flag == True:\n",
    "        print(num, end=\" \")"
   ]
  }
 ],
 "metadata": {
  "kernelspec": {
   "display_name": "Python 3",
   "language": "python",
   "name": "python3"
  },
  "language_info": {
   "codemirror_mode": {
    "name": "ipython",
    "version": 3
   },
   "file_extension": ".py",
   "mimetype": "text/x-python",
   "name": "python",
   "nbconvert_exporter": "python",
   "pygments_lexer": "ipython3",
   "version": "3.8.8"
  }
 },
 "nbformat": 4,
 "nbformat_minor": 5
}
