{
 "cells": [
  {
   "cell_type": "code",
   "execution_count": null,
   "id": "e9879eb5",
   "metadata": {},
   "outputs": [],
   "source": [
    "# In this exercise, you will create a program that reads words from the user until the\n",
    "# user enters a blank line. After the user enters a blank line your program should \n",
    "# display each word entered by the user exactly once. The words should be displayed in\n",
    "# any order. For example, if the user enters:\n",
    "\n",
    "# first\n",
    "# second\n",
    "# first\n",
    "# third\n",
    "# second\n",
    "# then your program should display:\n",
    "# first\n",
    "# second\n",
    "# third"
   ]
  },
  {
   "cell_type": "code",
   "execution_count": null,
   "id": "0a99c381",
   "metadata": {},
   "outputs": [],
   "source": [
    "# A proper divisor of a positive integer, n, is a positive integer less than n which divides\n",
    "# evenly into n. Write a function that computes all of the proper divisors of a positive\n",
    "# integer. The integer will be passed to the function as its only argument. The function\n",
    "# will return a tuple containing all of the proper divisors as its only result. Complete\n",
    "# this exercise by calling the function for 450, 725 and 900."
   ]
  },
  {
   "cell_type": "code",
   "execution_count": null,
   "id": "d1a9af7e",
   "metadata": {},
   "outputs": [],
   "source": [
    "# Create a function that takes following long sentence string as argument:\n",
    "\n",
    "# On offering to help the blind man, the man who then stole his car, had not, at that precise moment, had any evil intention, quite the contrary, what he did was nothing more than obey those feelings of generosity and altruism which, as everyone knows, are the two best traits of human nature and to be found in much more hardened criminals than this one, a simple car-thief without any hope of advancing in his profession, exploited by the real owners of this enterprise, for it is they who take advantage of the needs of the poor.\n",
    "# Print the number of words in the string (Hint: use len())\n",
    "# Print all the words appearing in the string only once and print how many are they (Hint: use len())\n",
    "\n",
    "# Hint: Split the string in words using the split() function, that will return a list. \n",
    "# Then create a set out of that list and print it."
   ]
  }
 ],
 "metadata": {
  "kernelspec": {
   "display_name": "Python 3",
   "language": "python",
   "name": "python3"
  },
  "language_info": {
   "codemirror_mode": {
    "name": "ipython",
    "version": 3
   },
   "file_extension": ".py",
   "mimetype": "text/x-python",
   "name": "python",
   "nbconvert_exporter": "python",
   "pygments_lexer": "ipython3",
   "version": "3.8.8"
  }
 },
 "nbformat": 4,
 "nbformat_minor": 5
}
