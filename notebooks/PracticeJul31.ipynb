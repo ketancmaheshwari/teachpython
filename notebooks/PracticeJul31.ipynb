{
 "cells": [
  {
   "cell_type": "code",
   "execution_count": null,
   "id": "aa613c48",
   "metadata": {},
   "outputs": [],
   "source": [
    "# Multiplication table\n",
    "\n",
    "# 2 X 1 = 2\n",
    "# 2 X 2 = 4\n",
    "# ...\n",
    "# ...\n",
    "# 2 X 20 = 40\n",
    "\n",
    "# Repetition\n",
    "# What is constant and what is changing?\n",
    "\n",
    "# starting at 1 and ending at 20\n",
    "\n",
    "num = 2\n",
    "\n",
    "# loop variable \n",
    "n = 1\n",
    "\n",
    "while n <= 30:\n",
    "    #if n % 2 == 0:\n",
    "    #    print(\"even\")\n",
    "    #else:\n",
    "    #    print(\"odd\")\n",
    "    #print(\"{} X {:2d} = {:2d}\".format(num, n, num * n))\n",
    "    if n==1:\n",
    "        print(\"Special case\")\n",
    "    \n",
    "    i = 2\n",
    "    while n % i != 0:\n",
    "        i += 1\n",
    "    \n",
    "    n += 1"
   ]
  },
  {
   "cell_type": "code",
   "execution_count": 11,
   "id": "73fb89af",
   "metadata": {},
   "outputs": [
    {
     "name": "stdout",
     "output_type": "stream",
     "text": [
      "The number is not prime\n"
     ]
    }
   ],
   "source": [
    "# check if a number is prime or not\n",
    "\n",
    "num = 40\n",
    "flag = True\n",
    "i = 2\n",
    "\n",
    "while i < num:\n",
    "    if num % i == 0:\n",
    "        flag = False\n",
    "    i += 1\n",
    "\n",
    "if flag == True:\n",
    "    print(\"The number is prime.\")\n",
    "else:\n",
    "    print(\"The number is not prime.\")\n",
    "    \n"
   ]
  },
  {
   "cell_type": "code",
   "execution_count": null,
   "id": "18ef74ce",
   "metadata": {},
   "outputs": [],
   "source": [
    "# Think about the output -- what output you want\n",
    "# Do some trial and error -- that is how you will learn\n",
    "# Think aloud -- this will help with clarity\n",
    "# Do not be afraid of failed programs / incorrect programs"
   ]
  },
  {
   "cell_type": "code",
   "execution_count": 15,
   "id": "4555a9a2",
   "metadata": {},
   "outputs": [
    {
     "name": "stdout",
     "output_type": "stream",
     "text": [
      "Enter the first number:22\n",
      "Enter the first number:12\n",
      "HCF of the two numbers is: 12\n"
     ]
    }
   ],
   "source": [
    "A = int(input(\"Enter the first number:\" ))\n",
    "B = int(input(\"Enter the first number:\" ))\n",
    "\n",
    "if A == 0:\n",
    "    print(\"HCF of these two numbers is: \" + str(B))\n",
    "elif B == 0:\n",
    "    print(\"HCF of these two numbers is: \" + str(A))\n",
    "\n",
    "R = B % A\n",
    "\n",
    "while R > 0:\n",
    "    R = B % A\n",
    "    A = B\n",
    "    B = R\n",
    "    #break\n",
    "\n",
    "print(\"HCF of the two numbers is: \" + str(A))\n"
   ]
  },
  {
   "cell_type": "code",
   "execution_count": null,
   "id": "ef74f5f4",
   "metadata": {},
   "outputs": [],
   "source": []
  }
 ],
 "metadata": {
  "kernelspec": {
   "display_name": "Python 3",
   "language": "python",
   "name": "python3"
  },
  "language_info": {
   "codemirror_mode": {
    "name": "ipython",
    "version": 3
   },
   "file_extension": ".py",
   "mimetype": "text/x-python",
   "name": "python",
   "nbconvert_exporter": "python",
   "pygments_lexer": "ipython3",
   "version": "3.8.8"
  }
 },
 "nbformat": 4,
 "nbformat_minor": 5
}
